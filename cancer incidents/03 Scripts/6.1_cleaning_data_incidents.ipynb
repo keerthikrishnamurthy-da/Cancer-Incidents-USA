{
 "cells": [
  {
   "cell_type": "markdown",
   "id": "c6a57d02",
   "metadata": {},
   "source": [
    "### Importing libraries"
   ]
  },
  {
   "cell_type": "code",
   "execution_count": 2,
   "id": "a707b90c",
   "metadata": {},
   "outputs": [],
   "source": [
    "#import standard libraries\n",
    "import pandas as pd\n",
    "import numpy as np\n",
    "import os"
   ]
  },
  {
   "cell_type": "code",
   "execution_count": 3,
   "id": "73fb9813",
   "metadata": {},
   "outputs": [],
   "source": [
    "#creating path\n",
    "pathk=r'/Users/keerthiputti/Downloads/Achievement 6/cancer incidents/02 Data'"
   ]
  },
  {
   "cell_type": "code",
   "execution_count": 4,
   "id": "5f1b517f",
   "metadata": {},
   "outputs": [
    {
     "name": "stdout",
     "output_type": "stream",
     "text": [
      "/Users/keerthiputti/Downloads/Achievement 6/cancer incidents/02 Data\n"
     ]
    }
   ],
   "source": [
    "print(pathk)"
   ]
  },
  {
   "cell_type": "markdown",
   "id": "95d34e13",
   "metadata": {},
   "source": [
    "## Plan for data set\n",
    "I have two data sets for cancer incidents. 2018 and 2019 data.\n",
    "I will be cleanign them separately and append the data into one set."
   ]
  },
  {
   "cell_type": "code",
   "execution_count": 5,
   "id": "497cfa8f",
   "metadata": {},
   "outputs": [],
   "source": [
    "#importing all data\n",
    "df_2019=pd.read_csv(os.path.join(pathk,'Original Data','2019_incidents.csv'),index_col=False)\n",
    "df_2018=pd.read_csv(os.path.join(pathk,'Original Data','2018_incidents.csv'),index_col=False)\n"
   ]
  },
  {
   "cell_type": "markdown",
   "id": "144ca57c",
   "metadata": {},
   "source": [
    "## Cleaning 2019 data"
   ]
  },
  {
   "cell_type": "code",
   "execution_count": 6,
   "id": "64568a22",
   "metadata": {
    "scrolled": true
   },
   "outputs": [
    {
     "name": "stdout",
     "output_type": "stream",
     "text": [
      "<class 'pandas.core.frame.DataFrame'>\n",
      "RangeIndex: 12240 entries, 0 to 12239\n",
      "Data columns (total 14 columns):\n",
      " #   Column                     Non-Null Count  Dtype  \n",
      "---  ------                     --------------  -----  \n",
      " 0   Notes                      62 non-null     object \n",
      " 1   Leading Cancer Sites       12178 non-null  object \n",
      " 2   Leading Cancer Sites Code  12178 non-null  object \n",
      " 3   States                     12178 non-null  object \n",
      " 4   States Code                12178 non-null  float64\n",
      " 5   Year                       12178 non-null  float64\n",
      " 6   Year Code                  12178 non-null  float64\n",
      " 7   Age Groups                 12178 non-null  object \n",
      " 8   Age Groups Code            12178 non-null  object \n",
      " 9   Sex                        12178 non-null  object \n",
      " 10  Sex Code                   12178 non-null  object \n",
      " 11  Count                      12178 non-null  float64\n",
      " 12  Population                 12178 non-null  float64\n",
      " 13  Crude Rate                 12178 non-null  float64\n",
      "dtypes: float64(6), object(8)\n",
      "memory usage: 1.3+ MB\n"
     ]
    }
   ],
   "source": [
    "df_2019.info()"
   ]
  },
  {
   "cell_type": "code",
   "execution_count": 7,
   "id": "a08b3722",
   "metadata": {},
   "outputs": [
    {
     "data": {
      "text/plain": [
       "(12240, 14)"
      ]
     },
     "execution_count": 7,
     "metadata": {},
     "output_type": "execute_result"
    }
   ],
   "source": [
    "df_2019.shape"
   ]
  },
  {
   "cell_type": "code",
   "execution_count": 8,
   "id": "d27cd30e",
   "metadata": {},
   "outputs": [
    {
     "data": {
      "text/html": [
       "<div>\n",
       "<style scoped>\n",
       "    .dataframe tbody tr th:only-of-type {\n",
       "        vertical-align: middle;\n",
       "    }\n",
       "\n",
       "    .dataframe tbody tr th {\n",
       "        vertical-align: top;\n",
       "    }\n",
       "\n",
       "    .dataframe thead th {\n",
       "        text-align: right;\n",
       "    }\n",
       "</style>\n",
       "<table border=\"1\" class=\"dataframe\">\n",
       "  <thead>\n",
       "    <tr style=\"text-align: right;\">\n",
       "      <th></th>\n",
       "      <th>Notes</th>\n",
       "      <th>Leading Cancer Sites</th>\n",
       "      <th>Leading Cancer Sites Code</th>\n",
       "      <th>States</th>\n",
       "      <th>States Code</th>\n",
       "      <th>Year</th>\n",
       "      <th>Year Code</th>\n",
       "      <th>Age Groups</th>\n",
       "      <th>Age Groups Code</th>\n",
       "      <th>Sex</th>\n",
       "      <th>Sex Code</th>\n",
       "      <th>Count</th>\n",
       "      <th>Population</th>\n",
       "      <th>Crude Rate</th>\n",
       "    </tr>\n",
       "  </thead>\n",
       "  <tbody>\n",
       "    <tr>\n",
       "      <th>0</th>\n",
       "      <td>NaN</td>\n",
       "      <td>Brain and Other Nervous System</td>\n",
       "      <td>31010-31040</td>\n",
       "      <td>Alabama</td>\n",
       "      <td>1.0</td>\n",
       "      <td>2019.0</td>\n",
       "      <td>2019.0</td>\n",
       "      <td>50-54 years</td>\n",
       "      <td>50-54</td>\n",
       "      <td>Male</td>\n",
       "      <td>M</td>\n",
       "      <td>19.0</td>\n",
       "      <td>149277.0</td>\n",
       "      <td>12.7</td>\n",
       "    </tr>\n",
       "    <tr>\n",
       "      <th>1</th>\n",
       "      <td>NaN</td>\n",
       "      <td>Brain and Other Nervous System</td>\n",
       "      <td>31010-31040</td>\n",
       "      <td>Alabama</td>\n",
       "      <td>1.0</td>\n",
       "      <td>2019.0</td>\n",
       "      <td>2019.0</td>\n",
       "      <td>55-59 years</td>\n",
       "      <td>55-59</td>\n",
       "      <td>Male</td>\n",
       "      <td>M</td>\n",
       "      <td>23.0</td>\n",
       "      <td>161482.0</td>\n",
       "      <td>14.2</td>\n",
       "    </tr>\n",
       "    <tr>\n",
       "      <th>2</th>\n",
       "      <td>NaN</td>\n",
       "      <td>Brain and Other Nervous System</td>\n",
       "      <td>31010-31040</td>\n",
       "      <td>Alabama</td>\n",
       "      <td>1.0</td>\n",
       "      <td>2019.0</td>\n",
       "      <td>2019.0</td>\n",
       "      <td>60-64 years</td>\n",
       "      <td>60-64</td>\n",
       "      <td>Male</td>\n",
       "      <td>M</td>\n",
       "      <td>30.0</td>\n",
       "      <td>151504.0</td>\n",
       "      <td>19.8</td>\n",
       "    </tr>\n",
       "    <tr>\n",
       "      <th>3</th>\n",
       "      <td>NaN</td>\n",
       "      <td>Brain and Other Nervous System</td>\n",
       "      <td>31010-31040</td>\n",
       "      <td>Alabama</td>\n",
       "      <td>1.0</td>\n",
       "      <td>2019.0</td>\n",
       "      <td>2019.0</td>\n",
       "      <td>65-69 years</td>\n",
       "      <td>65-69</td>\n",
       "      <td>Male</td>\n",
       "      <td>M</td>\n",
       "      <td>36.0</td>\n",
       "      <td>127679.0</td>\n",
       "      <td>28.2</td>\n",
       "    </tr>\n",
       "    <tr>\n",
       "      <th>4</th>\n",
       "      <td>NaN</td>\n",
       "      <td>Brain and Other Nervous System</td>\n",
       "      <td>31010-31040</td>\n",
       "      <td>Alabama</td>\n",
       "      <td>1.0</td>\n",
       "      <td>2019.0</td>\n",
       "      <td>2019.0</td>\n",
       "      <td>75-79 years</td>\n",
       "      <td>75-79</td>\n",
       "      <td>Male</td>\n",
       "      <td>M</td>\n",
       "      <td>20.0</td>\n",
       "      <td>68256.0</td>\n",
       "      <td>29.3</td>\n",
       "    </tr>\n",
       "    <tr>\n",
       "      <th>...</th>\n",
       "      <td>...</td>\n",
       "      <td>...</td>\n",
       "      <td>...</td>\n",
       "      <td>...</td>\n",
       "      <td>...</td>\n",
       "      <td>...</td>\n",
       "      <td>...</td>\n",
       "      <td>...</td>\n",
       "      <td>...</td>\n",
       "      <td>...</td>\n",
       "      <td>...</td>\n",
       "      <td>...</td>\n",
       "      <td>...</td>\n",
       "      <td>...</td>\n",
       "    </tr>\n",
       "    <tr>\n",
       "      <th>95</th>\n",
       "      <td>NaN</td>\n",
       "      <td>Brain and Other Nervous System</td>\n",
       "      <td>31010-31040</td>\n",
       "      <td>Maryland</td>\n",
       "      <td>24.0</td>\n",
       "      <td>2019.0</td>\n",
       "      <td>2019.0</td>\n",
       "      <td>55-59 years</td>\n",
       "      <td>55-59</td>\n",
       "      <td>Male</td>\n",
       "      <td>M</td>\n",
       "      <td>29.0</td>\n",
       "      <td>206327.0</td>\n",
       "      <td>14.1</td>\n",
       "    </tr>\n",
       "    <tr>\n",
       "      <th>96</th>\n",
       "      <td>NaN</td>\n",
       "      <td>Brain and Other Nervous System</td>\n",
       "      <td>31010-31040</td>\n",
       "      <td>Maryland</td>\n",
       "      <td>24.0</td>\n",
       "      <td>2019.0</td>\n",
       "      <td>2019.0</td>\n",
       "      <td>60-64 years</td>\n",
       "      <td>60-64</td>\n",
       "      <td>Male</td>\n",
       "      <td>M</td>\n",
       "      <td>25.0</td>\n",
       "      <td>182828.0</td>\n",
       "      <td>13.7</td>\n",
       "    </tr>\n",
       "    <tr>\n",
       "      <th>97</th>\n",
       "      <td>NaN</td>\n",
       "      <td>Brain and Other Nervous System</td>\n",
       "      <td>31010-31040</td>\n",
       "      <td>Maryland</td>\n",
       "      <td>24.0</td>\n",
       "      <td>2019.0</td>\n",
       "      <td>2019.0</td>\n",
       "      <td>65-69 years</td>\n",
       "      <td>65-69</td>\n",
       "      <td>Male</td>\n",
       "      <td>M</td>\n",
       "      <td>29.0</td>\n",
       "      <td>143139.0</td>\n",
       "      <td>20.3</td>\n",
       "    </tr>\n",
       "    <tr>\n",
       "      <th>98</th>\n",
       "      <td>NaN</td>\n",
       "      <td>Brain and Other Nervous System</td>\n",
       "      <td>31010-31040</td>\n",
       "      <td>Maryland</td>\n",
       "      <td>24.0</td>\n",
       "      <td>2019.0</td>\n",
       "      <td>2019.0</td>\n",
       "      <td>70-74 years</td>\n",
       "      <td>70-74</td>\n",
       "      <td>Male</td>\n",
       "      <td>M</td>\n",
       "      <td>33.0</td>\n",
       "      <td>112376.0</td>\n",
       "      <td>29.4</td>\n",
       "    </tr>\n",
       "    <tr>\n",
       "      <th>99</th>\n",
       "      <td>NaN</td>\n",
       "      <td>Brain and Other Nervous System</td>\n",
       "      <td>31010-31040</td>\n",
       "      <td>Maryland</td>\n",
       "      <td>24.0</td>\n",
       "      <td>2019.0</td>\n",
       "      <td>2019.0</td>\n",
       "      <td>75-79 years</td>\n",
       "      <td>75-79</td>\n",
       "      <td>Male</td>\n",
       "      <td>M</td>\n",
       "      <td>28.0</td>\n",
       "      <td>73831.0</td>\n",
       "      <td>37.9</td>\n",
       "    </tr>\n",
       "  </tbody>\n",
       "</table>\n",
       "<p>100 rows × 14 columns</p>\n",
       "</div>"
      ],
      "text/plain": [
       "   Notes            Leading Cancer Sites Leading Cancer Sites Code    States  \\\n",
       "0    NaN  Brain and Other Nervous System               31010-31040   Alabama   \n",
       "1    NaN  Brain and Other Nervous System               31010-31040   Alabama   \n",
       "2    NaN  Brain and Other Nervous System               31010-31040   Alabama   \n",
       "3    NaN  Brain and Other Nervous System               31010-31040   Alabama   \n",
       "4    NaN  Brain and Other Nervous System               31010-31040   Alabama   \n",
       "..   ...                             ...                       ...       ...   \n",
       "95   NaN  Brain and Other Nervous System               31010-31040  Maryland   \n",
       "96   NaN  Brain and Other Nervous System               31010-31040  Maryland   \n",
       "97   NaN  Brain and Other Nervous System               31010-31040  Maryland   \n",
       "98   NaN  Brain and Other Nervous System               31010-31040  Maryland   \n",
       "99   NaN  Brain and Other Nervous System               31010-31040  Maryland   \n",
       "\n",
       "    States Code    Year  Year Code    Age Groups Age Groups Code   Sex  \\\n",
       "0           1.0  2019.0     2019.0   50-54 years           50-54  Male   \n",
       "1           1.0  2019.0     2019.0   55-59 years           55-59  Male   \n",
       "2           1.0  2019.0     2019.0  60-64 years            60-64  Male   \n",
       "3           1.0  2019.0     2019.0   65-69 years           65-69  Male   \n",
       "4           1.0  2019.0     2019.0   75-79 years           75-79  Male   \n",
       "..          ...     ...        ...           ...             ...   ...   \n",
       "95         24.0  2019.0     2019.0   55-59 years           55-59  Male   \n",
       "96         24.0  2019.0     2019.0  60-64 years            60-64  Male   \n",
       "97         24.0  2019.0     2019.0   65-69 years           65-69  Male   \n",
       "98         24.0  2019.0     2019.0   70-74 years           70-74  Male   \n",
       "99         24.0  2019.0     2019.0   75-79 years           75-79  Male   \n",
       "\n",
       "   Sex Code  Count  Population  Crude Rate  \n",
       "0         M   19.0    149277.0        12.7  \n",
       "1         M   23.0    161482.0        14.2  \n",
       "2         M   30.0    151504.0        19.8  \n",
       "3         M   36.0    127679.0        28.2  \n",
       "4         M   20.0     68256.0        29.3  \n",
       "..      ...    ...         ...         ...  \n",
       "95        M   29.0    206327.0        14.1  \n",
       "96        M   25.0    182828.0        13.7  \n",
       "97        M   29.0    143139.0        20.3  \n",
       "98        M   33.0    112376.0        29.4  \n",
       "99        M   28.0     73831.0        37.9  \n",
       "\n",
       "[100 rows x 14 columns]"
      ]
     },
     "execution_count": 8,
     "metadata": {},
     "output_type": "execute_result"
    }
   ],
   "source": [
    "df_2019.head(100)"
   ]
  },
  {
   "cell_type": "code",
   "execution_count": 9,
   "id": "8318e19c",
   "metadata": {},
   "outputs": [],
   "source": [
    "## Dropping Notes columns as we are not going to use it\n",
    "df_2019=df_2019.drop(columns=['Notes'])"
   ]
  },
  {
   "cell_type": "code",
   "execution_count": 10,
   "id": "11ac1b4d",
   "metadata": {},
   "outputs": [
    {
     "data": {
      "text/plain": [
       "(12240, 13)"
      ]
     },
     "execution_count": 10,
     "metadata": {},
     "output_type": "execute_result"
    }
   ],
   "source": [
    "df_2019.shape"
   ]
  },
  {
   "cell_type": "code",
   "execution_count": 11,
   "id": "515cf5b6",
   "metadata": {},
   "outputs": [
    {
     "name": "stdout",
     "output_type": "stream",
     "text": [
      "<class 'pandas.core.frame.DataFrame'>\n",
      "RangeIndex: 12240 entries, 0 to 12239\n",
      "Data columns (total 13 columns):\n",
      " #   Column                     Non-Null Count  Dtype  \n",
      "---  ------                     --------------  -----  \n",
      " 0   Leading Cancer Sites       12178 non-null  object \n",
      " 1   Leading Cancer Sites Code  12178 non-null  object \n",
      " 2   States                     12178 non-null  object \n",
      " 3   States Code                12178 non-null  float64\n",
      " 4   Year                       12178 non-null  float64\n",
      " 5   Year Code                  12178 non-null  float64\n",
      " 6   Age Groups                 12178 non-null  object \n",
      " 7   Age Groups Code            12178 non-null  object \n",
      " 8   Sex                        12178 non-null  object \n",
      " 9   Sex Code                   12178 non-null  object \n",
      " 10  Count                      12178 non-null  float64\n",
      " 11  Population                 12178 non-null  float64\n",
      " 12  Crude Rate                 12178 non-null  float64\n",
      "dtypes: float64(6), object(7)\n",
      "memory usage: 1.2+ MB\n"
     ]
    }
   ],
   "source": [
    "df_2019.info()"
   ]
  },
  {
   "cell_type": "code",
   "execution_count": 12,
   "id": "c18e98bf",
   "metadata": {},
   "outputs": [],
   "source": [
    "#Dropping all codes columns as we wont be using them\n",
    "\n",
    "df_2019.drop(columns=['Leading Cancer Sites Code','States Code','Year Code','Age Groups Code'],inplace=True)"
   ]
  },
  {
   "cell_type": "code",
   "execution_count": 13,
   "id": "d0c92e5b",
   "metadata": {},
   "outputs": [
    {
     "data": {
      "text/plain": [
       "(12240, 9)"
      ]
     },
     "execution_count": 13,
     "metadata": {},
     "output_type": "execute_result"
    }
   ],
   "source": [
    "df_2019.shape"
   ]
  },
  {
   "cell_type": "markdown",
   "id": "6b9a2b02",
   "metadata": {},
   "source": [
    "## Checking value counts to see the overall data"
   ]
  },
  {
   "cell_type": "code",
   "execution_count": 14,
   "id": "68148f49",
   "metadata": {},
   "outputs": [
    {
     "data": {
      "text/plain": [
       "Colon and Rectum                         987\n",
       "Melanoma of the Skin                     950\n",
       "Lung and Bronchus                        860\n",
       "Non-Hodgkin Lymphoma                     808\n",
       "Kidney and Renal Pelvis                  777\n",
       "Leukemias                                742\n",
       "Thyroid                                  704\n",
       "Urinary Bladder, invasive and in situ    656\n",
       "Breast                                   641\n",
       "Pancreas                                 630\n",
       "Oral Cavity and Pharynx                  630\n",
       "Myeloma                                  485\n",
       "Corpus Uteri                             445\n",
       "Prostate                                 440\n",
       "Brain and Other Nervous System           431\n",
       "Stomach                                  430\n",
       "Liver                                    395\n",
       "Esophagus                                332\n",
       "Ovary                                    317\n",
       "Cervix Uteri                             243\n",
       "Larynx                                   214\n",
       "NaN                                       62\n",
       "Gallbladder                               61\n",
       "Name: Leading Cancer Sites, dtype: int64"
      ]
     },
     "execution_count": 14,
     "metadata": {},
     "output_type": "execute_result"
    }
   ],
   "source": [
    "df_2019['Leading Cancer Sites'].value_counts(dropna=False)"
   ]
  },
  {
   "cell_type": "code",
   "execution_count": 15,
   "id": "dc4fa409",
   "metadata": {
    "scrolled": true
   },
   "outputs": [
    {
     "data": {
      "text/plain": [
       "California              478\n",
       "Texas                   463\n",
       "New York                454\n",
       "Florida                 447\n",
       "Illinois                390\n",
       "Ohio                    383\n",
       "Pennsylvania            383\n",
       "North Carolina          367\n",
       "Georgia                 356\n",
       "New Jersey              353\n",
       "Michigan                347\n",
       "Virginia                328\n",
       "Washington              318\n",
       "Tennessee               309\n",
       "Massachusetts           309\n",
       "Arizona                 308\n",
       "Missouri                302\n",
       "Wisconsin               298\n",
       "Indiana                 296\n",
       "Maryland                296\n",
       "Colorado                280\n",
       "Alabama                 279\n",
       "Minnesota               278\n",
       "Louisiana               275\n",
       "South Carolina          272\n",
       "Kentucky                272\n",
       "Oklahoma                250\n",
       "Oregon                  241\n",
       "Connecticut             239\n",
       "Iowa                    234\n",
       "Arkansas                227\n",
       "Mississippi             211\n",
       "Kansas                  208\n",
       "West Virginia           175\n",
       "Utah                    174\n",
       "Nebraska                147\n",
       "New Mexico              144\n",
       "Maine                   144\n",
       "Idaho                   131\n",
       "New Hampshire           129\n",
       "Hawaii                  114\n",
       "Montana                  94\n",
       "Delaware                 89\n",
       "Rhode Island             88\n",
       "South Dakota             75\n",
       "NaN                      62\n",
       "Vermont                  61\n",
       "North Dakota             52\n",
       "Alaska                   38\n",
       "Wyoming                  38\n",
       "District of Columbia     34\n",
       "Name: States, dtype: int64"
      ]
     },
     "execution_count": 15,
     "metadata": {},
     "output_type": "execute_result"
    }
   ],
   "source": [
    "df_2019['States'].value_counts(sort=True,dropna=False)"
   ]
  },
  {
   "cell_type": "code",
   "execution_count": 16,
   "id": "8fbfa0c8",
   "metadata": {},
   "outputs": [
    {
     "data": {
      "text/plain": [
       "2019.0    12178\n",
       "NaN          62\n",
       "Name: Year, dtype: int64"
      ]
     },
     "execution_count": 16,
     "metadata": {},
     "output_type": "execute_result"
    }
   ],
   "source": [
    "df_2019['Year'].value_counts(dropna=False)"
   ]
  },
  {
   "cell_type": "code",
   "execution_count": 17,
   "id": "ab5ad0f1",
   "metadata": {},
   "outputs": [
    {
     "data": {
      "text/plain": [
       "65-69 years     1404\n",
       "60-64 years     1387\n",
       "70-74 years     1381\n",
       "75-79 years     1292\n",
       "55-59 years     1266\n",
       "80-84 years     1099\n",
       "85+ years       1050\n",
       "50-54 years     1011\n",
       "45-49 years      775\n",
       "40-44 years      534\n",
       "35-39 years      396\n",
       "30-34 years      262\n",
       "25-29 years      145\n",
       "20-24 years       64\n",
       "NaN               62\n",
       "1-4 years         37\n",
       "15-19 years       32\n",
       "10-14 years       22\n",
       "5-9 years         21\n",
       "Name: Age Groups, dtype: int64"
      ]
     },
     "execution_count": 17,
     "metadata": {},
     "output_type": "execute_result"
    }
   ],
   "source": [
    "df_2019['Age Groups'].value_counts(dropna=False)"
   ]
  },
  {
   "cell_type": "code",
   "execution_count": 18,
   "id": "591b1a6f",
   "metadata": {},
   "outputs": [
    {
     "data": {
      "text/plain": [
       "Female    6265\n",
       "Male      5913\n",
       "NaN         62\n",
       "Name: Sex, dtype: int64"
      ]
     },
     "execution_count": 18,
     "metadata": {},
     "output_type": "execute_result"
    }
   ],
   "source": [
    "df_2019['Sex'].value_counts(dropna=False)"
   ]
  },
  {
   "cell_type": "code",
   "execution_count": 19,
   "id": "41892dc3",
   "metadata": {},
   "outputs": [
    {
     "data": {
      "text/plain": [
       "F      6265\n",
       "M      5913\n",
       "NaN      62\n",
       "Name: Sex Code, dtype: int64"
      ]
     },
     "execution_count": 19,
     "metadata": {},
     "output_type": "execute_result"
    }
   ],
   "source": [
    "df_2019['Sex Code'].value_counts(dropna=False)"
   ]
  },
  {
   "cell_type": "code",
   "execution_count": 20,
   "id": "52a9a6d8",
   "metadata": {},
   "outputs": [
    {
     "data": {
      "text/plain": [
       "893.0       1\n",
       "419.0       1\n",
       "645.0       1\n",
       "582.0       1\n",
       "1004.0      1\n",
       "         ... \n",
       "20.0      284\n",
       "18.0      289\n",
       "19.0      289\n",
       "17.0      318\n",
       "16.0      344\n",
       "Name: Count, Length: 883, dtype: int64"
      ]
     },
     "execution_count": 20,
     "metadata": {},
     "output_type": "execute_result"
    }
   ],
   "source": [
    "df_2019['Count'].value_counts(ascending=True,dropna=False)"
   ]
  },
  {
   "cell_type": "code",
   "execution_count": 21,
   "id": "4993dc38",
   "metadata": {},
   "outputs": [
    {
     "data": {
      "text/plain": [
       "array([  19.,   23.,   30.,   36.,   20.,   17.,   22.,   24.,   33.,\n",
       "         21.,   16.,   38.,   42.,   28.,   27.,   57.,   50.,   73.,\n",
       "         74.,   95.,  134.,  164.,  169.,  137.,  113.,   67.,   53.,\n",
       "         18.,   26.,   32.,   35.,   96.,  117.,  148.,  109.,   91.,\n",
       "         68.,   51.,   25.,   52.,   29.,   31.,   37.,   59.,   39.,\n",
       "         46.,   45.,   40.,   48.,   75.,   82.,   80.,   69.,   54.,\n",
       "         47.,   65.,   72.,   55.,   70.,   44.,   34.,   84.,  100.,\n",
       "         97.,   41.,   49.,  131.,  153.,  179.,  223.,  183.,  130.,\n",
       "        114.,   81.,   99.,  176.,  213.,  199.,  170.,  125.,  122.,\n",
       "         79.,  102.,  128.,  152.,   87.,  155.,  270.,  471.,  845.,\n",
       "        923., 1057., 1069.,  935.,  755.,  638.,  646.,   58.,  112.,\n",
       "        121.,  133.,   93.,   71.,   88.,   90.,  115.,   94.,   98.,\n",
       "         61.,   76.,  129.,  273.,  449.,  593.,  716.,  835.,  750.,\n",
       "        669.,  500.,  477.,   78.,  149.,  269.,  299.,  358.,  384.,\n",
       "        337.,  250.,  140.,   56.,   63.,   43.,  282.,  349.,  442.,\n",
       "        452.,  399.,  335.,  234.,  261.,   77.,  174.,  224.,  209.,\n",
       "        154.,  147.,  103.,  104.,  108.,  105.,  159.,  214.,  225.,\n",
       "        166.,  215.,  195.,  124.,  163.,   60.,  196.,  172.,   64.,\n",
       "        146.,  254.,  242.,  301.,  340.,  322.,  259.,  180.,  184.,\n",
       "        127.,  141.,  145.,  116.,  126.,  132.,  178.,  218.,  119.,\n",
       "         62.,  227.,  265.,  309.,  286.,  320.,  239.,  201.,  217.,\n",
       "        434.,  569.,  574.,  627.,  559.,  473.,  403.,  426.,   83.,\n",
       "        252.,  237.,  288.,  333.,  296.,  173.,  268.,  311.,  465.,\n",
       "        425.,  313.,  276.,  235.,   89.,  118.,  171.,  139.,  314.,\n",
       "        347.,  433.,  479.,  400.,  317.,  219.,  258.,  246.,  188.,\n",
       "        344.,  634.,  779.,  940.,  967.,  747.,  578.,  339.,  187.,\n",
       "        210.,  232.,  255.,  208.,  158.,  216.,  198.,  175.,  160.,\n",
       "        182.,  111.,  202.,  241.,  189.,  143.,  168.,  136.,  151.,\n",
       "        165.,   66.,  144.,  243.,  312.,  495.,  683.,  695.,  601.,\n",
       "        453.,  294.,  167.,  203.,  305.,  455.,  466.,  359.,  194.,\n",
       "        106.,  278.,  101.,  138.,  107.,  197.,  220.,  191.,  376.,\n",
       "        396.,  451.,  409.,  190.,  245.,  249.,   92.,  156.,  298.,\n",
       "         85.,  177.,  356.,  445.,  556.,  604.,  534.,  342.,  206.,\n",
       "        120.,  297.,  383.,  319.,  275.,  162.,  248.,  326.,  406.,\n",
       "        414.,  231.,  247.,  212.,  142.,  253.,  244.,  336.,  548.,\n",
       "        588.,  411.,  257.,  292.,   86.,  123.,  135.,  280.,  506.,\n",
       "        186.,  323.,  410.,  460.,  110.,  228.,  405.,  393.,  150.,\n",
       "        281.,  589., 1380., 1579., 1492., 1078.,  909.,  211.,  702.,\n",
       "       1128., 1567., 1730., 1564., 1061.,  805.,  570.,  676.,  737.,\n",
       "        513.,  378.,  658.,  798.,  882.,  687.,  457.,  412.,  485.,\n",
       "        518.,  415.,  251.,  193.,  422.,  362.,  379.,  360.,  304.,\n",
       "        181.,  361.,  200.,  397.,  623.,  759.,  765.,  581.,  329.,\n",
       "        274.,  413.,  482.,  492.,  348.,  472.,  503.,  494.,  324.,\n",
       "        236.,  572.,  944., 1144., 1279.,  982.,  732.,  635.,  373.,\n",
       "        631.,  775.,  868.,  724.,  429.,  267.,  480.,  828.,  961.,\n",
       "        902.,  831.,  475.,  308.,  284.,  185.,  263.,  469.,  816.,\n",
       "        893., 1066.,  837.,  557.,  462.,  205.,  461.,  390.,  496.,\n",
       "        595.,  693.,  512.,  571., 1027., 1359., 1351., 1170.,  782.,\n",
       "        524.,  420.,  474.,  526.,  444.,  287.,  372.,  229.,  389.,\n",
       "        240.,  766.,  832.,  974.,  840.,  619.,  637.,  364.,  458.,\n",
       "        709.,  793.,  726.,  540.,  551.,  207.,  262.,  295.,  161.,\n",
       "        192.,  238.,  334.,  293.,  272.,  226.,  291.,  157.,  436.,\n",
       "        341.,  233.,  511.,  596.,  580.,  562.,  256.,  508.,  536.,\n",
       "        489.,  386.,  300.,  352.,  374.,  544.,  435.,  533.,  289.,\n",
       "        325.,  318.,  222.,  381.,  438.,  353.,  392.,  463.,  447.,\n",
       "        260.,  387.,  432.,  266.,  204.,  499.,  731.,  916.,  648.,\n",
       "        780.,  668.,  391.,  446.,  888., 2449., 3888., 5263., 4170.,\n",
       "       2553., 1333.,  331.,  583.,  744.,  656.,  332.,  610.,  698.,\n",
       "        599.,  609., 1430., 2116., 3183., 2798., 1887.,  931.,  497.,\n",
       "       1538., 1929., 1500.,  869.,  221.,  354.,  478., 1035., 1771.,\n",
       "       2004., 1602., 1001.,  459.,  717.,  908.,  706.,  419.,  279.,\n",
       "        645.,  370.,  582.,  594.,  528.,  813., 1004.,  714.,  290.,\n",
       "        315.,  722., 1062., 1166.,  866.,  979., 1167.,  874.,  507.,\n",
       "        394.,  952., 1559., 1811., 1498.,  846.,  402.,  230.,  751.,\n",
       "        941.,  723.,  404.,  316.,  624.,  283.,  880.,  430.,  285.,\n",
       "        423., 1013., 1677., 1767., 1474.,  947.,  428.,  851., 2037.,\n",
       "       3255., 3731., 3193., 1941.,  565., 1063., 1610., 1964., 1599.,\n",
       "       1077., 1769., 2227., 1700.,  993.,  491.,  307.,  715.,  641.,\n",
       "        330.,  476., 1223., 1999., 2342., 1897., 1116.,  493.,  685.,\n",
       "        886.,  730.,  579.,  892., 1184.,  976.,  575.,  810., 1839.,\n",
       "       2745., 3735., 2915., 1739.,  749.,  584.,  959., 1176.,  949.,\n",
       "        546.,  488.,  833., 1199.,  918.,  560.,  606., 1275.,  937.,\n",
       "        523.,  573.,  728.,  946.,  913.,  704.,  848.,  407.,  644.,\n",
       "        863.,  699.,  368.,  302.,  303.,  327.,  443.,  367.,  388.,\n",
       "        561.,  549.,  385.,  622.,  545.,  705.,  844.,  757.,  535.,\n",
       "        408.,  849., 1649., 2441., 2836., 3411., 3856., 3977., 3720.,\n",
       "       2400., 1572., 1490.,  541.,  568.,  708.,  585.,  790., 1292.,\n",
       "       1605., 2067., 2474., 2876., 2775., 2040., 1248.,  965.,  427.,\n",
       "        712.,  825.,  997., 1091., 1212., 1114.,  651.,  306.,  564.,\n",
       "        836.,  977., 1191., 1499., 1506., 1398., 1003.,  639.,  264.,\n",
       "        456.,  366.,  437.,  516.,  529.,  484.,  363.,  691.,  720.,\n",
       "        700.,  501.,  670.,  853.,  760.,  734., 1135., 1230., 1073.,\n",
       "        346.,  553.,  672.,  418.,  338.,  369.,  616.,  754.,  505.,\n",
       "       1096., 1130.,  981.,  774.,  490., 1383., 1797., 2081., 2350.,\n",
       "       2360., 2266., 1606., 1036.,  740.,  895., 1137., 1263., 1420.,\n",
       "       1376.,  906., 1440., 1375.,  973.,  537.,  808., 1038., 1293.,\n",
       "       1580., 1642., 1501., 1106.,  701.,  345.,  794.,  826., 1101.,\n",
       "       1802., 1944., 2233., 2668., 2793., 2380., 1609.,  310.,  626.,\n",
       "        820.,  928.,  995.,  922.,  642.,  681.,  925.,  864.,  690.,\n",
       "        804.,  653.,  504.,  365.,  625.,  667.,  784.,  824.,  725.,\n",
       "        514.,  611.,  608.,  277.,  487.,  350.,  351.,  519.,  684.,\n",
       "        498.,  963., 1099., 1064.,  822.,  530.,  271.,  543.,  789.,\n",
       "        613.,  321.,  439.,  547.,  401.,  355.,  673.,  431., 1007.,\n",
       "       1236., 1495., 1473., 1065., 1070., 1349., 1679., 1541., 1023.,\n",
       "        809.,  586.,  649.,  566.,  454.,  417.,  605.,  703.,  621.,\n",
       "        357., 1018., 1150., 1323., 1208.,  812.,  763.,  819.,  876.,\n",
       "        817.,  525.,  964.,  815.,  522.,  839., 1015., 1200., 1032.,\n",
       "        661.,  532.,  483.,  448.,  382.,  421.,  328.,  416.,  343.,\n",
       "         nan])"
      ]
     },
     "execution_count": 21,
     "metadata": {},
     "output_type": "execute_result"
    }
   ],
   "source": [
    "df_2019['Count'].unique()"
   ]
  },
  {
   "cell_type": "markdown",
   "id": "d305eec3",
   "metadata": {},
   "source": [
    "Observation from the above analysis.\n",
    "There are about 60 Nan values across the data."
   ]
  },
  {
   "cell_type": "markdown",
   "id": "597067c5",
   "metadata": {},
   "source": [
    "## Mixed data types check"
   ]
  },
  {
   "cell_type": "code",
   "execution_count": 22,
   "id": "4a3f22af",
   "metadata": {},
   "outputs": [
    {
     "name": "stdout",
     "output_type": "stream",
     "text": [
      "<class 'pandas.core.frame.DataFrame'>\n",
      "RangeIndex: 12240 entries, 0 to 12239\n",
      "Data columns (total 9 columns):\n",
      " #   Column                Non-Null Count  Dtype  \n",
      "---  ------                --------------  -----  \n",
      " 0   Leading Cancer Sites  12178 non-null  object \n",
      " 1   States                12178 non-null  object \n",
      " 2   Year                  12178 non-null  float64\n",
      " 3   Age Groups            12178 non-null  object \n",
      " 4   Sex                   12178 non-null  object \n",
      " 5   Sex Code              12178 non-null  object \n",
      " 6   Count                 12178 non-null  float64\n",
      " 7   Population            12178 non-null  float64\n",
      " 8   Crude Rate            12178 non-null  float64\n",
      "dtypes: float64(4), object(5)\n",
      "memory usage: 860.8+ KB\n"
     ]
    }
   ],
   "source": [
    "df_2019.info()"
   ]
  },
  {
   "cell_type": "code",
   "execution_count": 23,
   "id": "510d7f6f",
   "metadata": {},
   "outputs": [
    {
     "name": "stdout",
     "output_type": "stream",
     "text": [
      "Leading Cancer Sites\n",
      "States\n",
      "Age Groups\n",
      "Sex\n",
      "Sex Code\n"
     ]
    }
   ],
   "source": [
    "for col in df_2019.columns.tolist():\n",
    "  weird = (df_2019[[col]].applymap(type) != df_2019[[col]].iloc[0].apply(type)).any(axis = 1)\n",
    "  if len (df_2019[weird]) > 0:\n",
    "    print (col)"
   ]
  },
  {
   "cell_type": "markdown",
   "id": "ff687138",
   "metadata": {},
   "source": [
    "## There are 5 columns with mixed data types. FIrst we will deal with missing values and check again if the difference is because of them."
   ]
  },
  {
   "cell_type": "code",
   "execution_count": 24,
   "id": "86282637",
   "metadata": {},
   "outputs": [
    {
     "data": {
      "text/plain": [
       "Leading Cancer Sites    62\n",
       "States                  62\n",
       "Year                    62\n",
       "Age Groups              62\n",
       "Sex                     62\n",
       "Sex Code                62\n",
       "Count                   62\n",
       "Population              62\n",
       "Crude Rate              62\n",
       "dtype: int64"
      ]
     },
     "execution_count": 24,
     "metadata": {},
     "output_type": "execute_result"
    }
   ],
   "source": [
    "#checking NULL(missing data) rows in columns\n",
    "df_2019.isnull().sum()"
   ]
  },
  {
   "cell_type": "code",
   "execution_count": 25,
   "id": "ff2787b3",
   "metadata": {},
   "outputs": [],
   "source": [
    "## as all columns have NULL, we can check if all rows are null and then columnwise."
   ]
  },
  {
   "cell_type": "code",
   "execution_count": 26,
   "id": "cde2a53c",
   "metadata": {},
   "outputs": [],
   "source": [
    "#dropping NaN rows\n",
    "df_2019.dropna(inplace = True)"
   ]
  },
  {
   "cell_type": "code",
   "execution_count": 27,
   "id": "554bc2e0",
   "metadata": {},
   "outputs": [
    {
     "data": {
      "text/plain": [
       "(12178, 9)"
      ]
     },
     "execution_count": 27,
     "metadata": {},
     "output_type": "execute_result"
    }
   ],
   "source": [
    "df_2019.shape"
   ]
  },
  {
   "cell_type": "markdown",
   "id": "5627f229",
   "metadata": {},
   "source": [
    "## 12238 rows reduced to 12178. \n",
    "That is our 60 rows of NULL value. Lets check mixed and missing values again."
   ]
  },
  {
   "cell_type": "code",
   "execution_count": 28,
   "id": "36091ea9",
   "metadata": {},
   "outputs": [
    {
     "data": {
      "text/plain": [
       "Leading Cancer Sites    0\n",
       "States                  0\n",
       "Year                    0\n",
       "Age Groups              0\n",
       "Sex                     0\n",
       "Sex Code                0\n",
       "Count                   0\n",
       "Population              0\n",
       "Crude Rate              0\n",
       "dtype: int64"
      ]
     },
     "execution_count": 28,
     "metadata": {},
     "output_type": "execute_result"
    }
   ],
   "source": [
    "#Missing values\n",
    "df_2019.isnull().sum()"
   ]
  },
  {
   "cell_type": "code",
   "execution_count": 29,
   "id": "386b814e",
   "metadata": {},
   "outputs": [],
   "source": [
    "#mixed data columns\n",
    "for col in df_2019.columns.tolist():\n",
    "  weird = (df_2019[[col]].applymap(type) != df_2019[[col]].iloc[0].apply(type)).any(axis = 1)\n",
    "  if len (df_2019[weird]) > 0:\n",
    "    print (col)"
   ]
  },
  {
   "cell_type": "code",
   "execution_count": 30,
   "id": "52243f7c",
   "metadata": {},
   "outputs": [],
   "source": [
    "#checking duplicates\n",
    "\n",
    "df_dups_2019 = df_2019[df_2019.duplicated()]"
   ]
  },
  {
   "cell_type": "code",
   "execution_count": 31,
   "id": "12111940",
   "metadata": {},
   "outputs": [
    {
     "data": {
      "text/html": [
       "<div>\n",
       "<style scoped>\n",
       "    .dataframe tbody tr th:only-of-type {\n",
       "        vertical-align: middle;\n",
       "    }\n",
       "\n",
       "    .dataframe tbody tr th {\n",
       "        vertical-align: top;\n",
       "    }\n",
       "\n",
       "    .dataframe thead th {\n",
       "        text-align: right;\n",
       "    }\n",
       "</style>\n",
       "<table border=\"1\" class=\"dataframe\">\n",
       "  <thead>\n",
       "    <tr style=\"text-align: right;\">\n",
       "      <th></th>\n",
       "      <th>Leading Cancer Sites</th>\n",
       "      <th>States</th>\n",
       "      <th>Year</th>\n",
       "      <th>Age Groups</th>\n",
       "      <th>Sex</th>\n",
       "      <th>Sex Code</th>\n",
       "      <th>Count</th>\n",
       "      <th>Population</th>\n",
       "      <th>Crude Rate</th>\n",
       "    </tr>\n",
       "  </thead>\n",
       "  <tbody>\n",
       "  </tbody>\n",
       "</table>\n",
       "</div>"
      ],
      "text/plain": [
       "Empty DataFrame\n",
       "Columns: [Leading Cancer Sites, States, Year, Age Groups, Sex, Sex Code, Count, Population, Crude Rate]\n",
       "Index: []"
      ]
     },
     "execution_count": 31,
     "metadata": {},
     "output_type": "execute_result"
    }
   ],
   "source": [
    "df_dups_2019"
   ]
  },
  {
   "cell_type": "code",
   "execution_count": 32,
   "id": "17722245",
   "metadata": {},
   "outputs": [
    {
     "data": {
      "text/html": [
       "<div>\n",
       "<style scoped>\n",
       "    .dataframe tbody tr th:only-of-type {\n",
       "        vertical-align: middle;\n",
       "    }\n",
       "\n",
       "    .dataframe tbody tr th {\n",
       "        vertical-align: top;\n",
       "    }\n",
       "\n",
       "    .dataframe thead th {\n",
       "        text-align: right;\n",
       "    }\n",
       "</style>\n",
       "<table border=\"1\" class=\"dataframe\">\n",
       "  <thead>\n",
       "    <tr style=\"text-align: right;\">\n",
       "      <th></th>\n",
       "      <th>Leading Cancer Sites</th>\n",
       "      <th>States</th>\n",
       "      <th>Year</th>\n",
       "      <th>Age Groups</th>\n",
       "      <th>Sex</th>\n",
       "      <th>Sex Code</th>\n",
       "      <th>Count</th>\n",
       "      <th>Population</th>\n",
       "      <th>Crude Rate</th>\n",
       "    </tr>\n",
       "  </thead>\n",
       "  <tbody>\n",
       "    <tr>\n",
       "      <th>0</th>\n",
       "      <td>Brain and Other Nervous System</td>\n",
       "      <td>Alabama</td>\n",
       "      <td>2019.0</td>\n",
       "      <td>50-54 years</td>\n",
       "      <td>Male</td>\n",
       "      <td>M</td>\n",
       "      <td>19.0</td>\n",
       "      <td>149277.0</td>\n",
       "      <td>12.7</td>\n",
       "    </tr>\n",
       "    <tr>\n",
       "      <th>1</th>\n",
       "      <td>Brain and Other Nervous System</td>\n",
       "      <td>Alabama</td>\n",
       "      <td>2019.0</td>\n",
       "      <td>55-59 years</td>\n",
       "      <td>Male</td>\n",
       "      <td>M</td>\n",
       "      <td>23.0</td>\n",
       "      <td>161482.0</td>\n",
       "      <td>14.2</td>\n",
       "    </tr>\n",
       "    <tr>\n",
       "      <th>2</th>\n",
       "      <td>Brain and Other Nervous System</td>\n",
       "      <td>Alabama</td>\n",
       "      <td>2019.0</td>\n",
       "      <td>60-64 years</td>\n",
       "      <td>Male</td>\n",
       "      <td>M</td>\n",
       "      <td>30.0</td>\n",
       "      <td>151504.0</td>\n",
       "      <td>19.8</td>\n",
       "    </tr>\n",
       "    <tr>\n",
       "      <th>3</th>\n",
       "      <td>Brain and Other Nervous System</td>\n",
       "      <td>Alabama</td>\n",
       "      <td>2019.0</td>\n",
       "      <td>65-69 years</td>\n",
       "      <td>Male</td>\n",
       "      <td>M</td>\n",
       "      <td>36.0</td>\n",
       "      <td>127679.0</td>\n",
       "      <td>28.2</td>\n",
       "    </tr>\n",
       "    <tr>\n",
       "      <th>4</th>\n",
       "      <td>Brain and Other Nervous System</td>\n",
       "      <td>Alabama</td>\n",
       "      <td>2019.0</td>\n",
       "      <td>75-79 years</td>\n",
       "      <td>Male</td>\n",
       "      <td>M</td>\n",
       "      <td>20.0</td>\n",
       "      <td>68256.0</td>\n",
       "      <td>29.3</td>\n",
       "    </tr>\n",
       "    <tr>\n",
       "      <th>5</th>\n",
       "      <td>Brain and Other Nervous System</td>\n",
       "      <td>Arizona</td>\n",
       "      <td>2019.0</td>\n",
       "      <td>50-54 years</td>\n",
       "      <td>Male</td>\n",
       "      <td>M</td>\n",
       "      <td>17.0</td>\n",
       "      <td>206772.0</td>\n",
       "      <td>8.2</td>\n",
       "    </tr>\n",
       "    <tr>\n",
       "      <th>6</th>\n",
       "      <td>Brain and Other Nervous System</td>\n",
       "      <td>Arizona</td>\n",
       "      <td>2019.0</td>\n",
       "      <td>55-59 years</td>\n",
       "      <td>Male</td>\n",
       "      <td>M</td>\n",
       "      <td>22.0</td>\n",
       "      <td>216293.0</td>\n",
       "      <td>10.2</td>\n",
       "    </tr>\n",
       "    <tr>\n",
       "      <th>7</th>\n",
       "      <td>Brain and Other Nervous System</td>\n",
       "      <td>Arizona</td>\n",
       "      <td>2019.0</td>\n",
       "      <td>60-64 years</td>\n",
       "      <td>Male</td>\n",
       "      <td>M</td>\n",
       "      <td>30.0</td>\n",
       "      <td>204086.0</td>\n",
       "      <td>14.7</td>\n",
       "    </tr>\n",
       "    <tr>\n",
       "      <th>8</th>\n",
       "      <td>Brain and Other Nervous System</td>\n",
       "      <td>Arizona</td>\n",
       "      <td>2019.0</td>\n",
       "      <td>65-69 years</td>\n",
       "      <td>Male</td>\n",
       "      <td>M</td>\n",
       "      <td>24.0</td>\n",
       "      <td>184808.0</td>\n",
       "      <td>13.0</td>\n",
       "    </tr>\n",
       "    <tr>\n",
       "      <th>9</th>\n",
       "      <td>Brain and Other Nervous System</td>\n",
       "      <td>Arizona</td>\n",
       "      <td>2019.0</td>\n",
       "      <td>70-74 years</td>\n",
       "      <td>Male</td>\n",
       "      <td>M</td>\n",
       "      <td>33.0</td>\n",
       "      <td>166440.0</td>\n",
       "      <td>19.8</td>\n",
       "    </tr>\n",
       "  </tbody>\n",
       "</table>\n",
       "</div>"
      ],
      "text/plain": [
       "             Leading Cancer Sites   States    Year    Age Groups   Sex  \\\n",
       "0  Brain and Other Nervous System  Alabama  2019.0   50-54 years  Male   \n",
       "1  Brain and Other Nervous System  Alabama  2019.0   55-59 years  Male   \n",
       "2  Brain and Other Nervous System  Alabama  2019.0  60-64 years   Male   \n",
       "3  Brain and Other Nervous System  Alabama  2019.0   65-69 years  Male   \n",
       "4  Brain and Other Nervous System  Alabama  2019.0   75-79 years  Male   \n",
       "5  Brain and Other Nervous System  Arizona  2019.0   50-54 years  Male   \n",
       "6  Brain and Other Nervous System  Arizona  2019.0   55-59 years  Male   \n",
       "7  Brain and Other Nervous System  Arizona  2019.0  60-64 years   Male   \n",
       "8  Brain and Other Nervous System  Arizona  2019.0   65-69 years  Male   \n",
       "9  Brain and Other Nervous System  Arizona  2019.0   70-74 years  Male   \n",
       "\n",
       "  Sex Code  Count  Population  Crude Rate  \n",
       "0        M   19.0    149277.0        12.7  \n",
       "1        M   23.0    161482.0        14.2  \n",
       "2        M   30.0    151504.0        19.8  \n",
       "3        M   36.0    127679.0        28.2  \n",
       "4        M   20.0     68256.0        29.3  \n",
       "5        M   17.0    206772.0         8.2  \n",
       "6        M   22.0    216293.0        10.2  \n",
       "7        M   30.0    204086.0        14.7  \n",
       "8        M   24.0    184808.0        13.0  \n",
       "9        M   33.0    166440.0        19.8  "
      ]
     },
     "execution_count": 32,
     "metadata": {},
     "output_type": "execute_result"
    }
   ],
   "source": [
    "#final 2019 clean data\n",
    "df_2019.head(10)"
   ]
  },
  {
   "cell_type": "markdown",
   "id": "7d96b3ba",
   "metadata": {},
   "source": [
    "## The data seems clean without NULL values , mixed data or Duplicates"
   ]
  },
  {
   "cell_type": "code",
   "execution_count": 33,
   "id": "e85236e4",
   "metadata": {},
   "outputs": [],
   "source": [
    "#changing year to integer\n",
    "df_2019['Year']=df_2019['Year'].astype('int')"
   ]
  },
  {
   "cell_type": "code",
   "execution_count": 34,
   "id": "42b3f582",
   "metadata": {},
   "outputs": [
    {
     "data": {
      "text/plain": [
       "(12178, 9)"
      ]
     },
     "execution_count": 34,
     "metadata": {},
     "output_type": "execute_result"
    }
   ],
   "source": [
    "df_2019.shape"
   ]
  },
  {
   "cell_type": "code",
   "execution_count": 35,
   "id": "6282c1ef",
   "metadata": {},
   "outputs": [
    {
     "data": {
      "text/html": [
       "<div>\n",
       "<style scoped>\n",
       "    .dataframe tbody tr th:only-of-type {\n",
       "        vertical-align: middle;\n",
       "    }\n",
       "\n",
       "    .dataframe tbody tr th {\n",
       "        vertical-align: top;\n",
       "    }\n",
       "\n",
       "    .dataframe thead th {\n",
       "        text-align: right;\n",
       "    }\n",
       "</style>\n",
       "<table border=\"1\" class=\"dataframe\">\n",
       "  <thead>\n",
       "    <tr style=\"text-align: right;\">\n",
       "      <th></th>\n",
       "      <th>Leading Cancer Sites</th>\n",
       "      <th>States</th>\n",
       "      <th>Year</th>\n",
       "      <th>Age Groups</th>\n",
       "      <th>Sex</th>\n",
       "      <th>Sex Code</th>\n",
       "      <th>Count</th>\n",
       "      <th>Population</th>\n",
       "      <th>Crude Rate</th>\n",
       "    </tr>\n",
       "  </thead>\n",
       "  <tbody>\n",
       "    <tr>\n",
       "      <th>0</th>\n",
       "      <td>Brain and Other Nervous System</td>\n",
       "      <td>Alabama</td>\n",
       "      <td>2019</td>\n",
       "      <td>50-54 years</td>\n",
       "      <td>Male</td>\n",
       "      <td>M</td>\n",
       "      <td>19.0</td>\n",
       "      <td>149277.0</td>\n",
       "      <td>12.7</td>\n",
       "    </tr>\n",
       "    <tr>\n",
       "      <th>1</th>\n",
       "      <td>Brain and Other Nervous System</td>\n",
       "      <td>Alabama</td>\n",
       "      <td>2019</td>\n",
       "      <td>55-59 years</td>\n",
       "      <td>Male</td>\n",
       "      <td>M</td>\n",
       "      <td>23.0</td>\n",
       "      <td>161482.0</td>\n",
       "      <td>14.2</td>\n",
       "    </tr>\n",
       "    <tr>\n",
       "      <th>2</th>\n",
       "      <td>Brain and Other Nervous System</td>\n",
       "      <td>Alabama</td>\n",
       "      <td>2019</td>\n",
       "      <td>60-64 years</td>\n",
       "      <td>Male</td>\n",
       "      <td>M</td>\n",
       "      <td>30.0</td>\n",
       "      <td>151504.0</td>\n",
       "      <td>19.8</td>\n",
       "    </tr>\n",
       "    <tr>\n",
       "      <th>3</th>\n",
       "      <td>Brain and Other Nervous System</td>\n",
       "      <td>Alabama</td>\n",
       "      <td>2019</td>\n",
       "      <td>65-69 years</td>\n",
       "      <td>Male</td>\n",
       "      <td>M</td>\n",
       "      <td>36.0</td>\n",
       "      <td>127679.0</td>\n",
       "      <td>28.2</td>\n",
       "    </tr>\n",
       "    <tr>\n",
       "      <th>4</th>\n",
       "      <td>Brain and Other Nervous System</td>\n",
       "      <td>Alabama</td>\n",
       "      <td>2019</td>\n",
       "      <td>75-79 years</td>\n",
       "      <td>Male</td>\n",
       "      <td>M</td>\n",
       "      <td>20.0</td>\n",
       "      <td>68256.0</td>\n",
       "      <td>29.3</td>\n",
       "    </tr>\n",
       "    <tr>\n",
       "      <th>5</th>\n",
       "      <td>Brain and Other Nervous System</td>\n",
       "      <td>Arizona</td>\n",
       "      <td>2019</td>\n",
       "      <td>50-54 years</td>\n",
       "      <td>Male</td>\n",
       "      <td>M</td>\n",
       "      <td>17.0</td>\n",
       "      <td>206772.0</td>\n",
       "      <td>8.2</td>\n",
       "    </tr>\n",
       "    <tr>\n",
       "      <th>6</th>\n",
       "      <td>Brain and Other Nervous System</td>\n",
       "      <td>Arizona</td>\n",
       "      <td>2019</td>\n",
       "      <td>55-59 years</td>\n",
       "      <td>Male</td>\n",
       "      <td>M</td>\n",
       "      <td>22.0</td>\n",
       "      <td>216293.0</td>\n",
       "      <td>10.2</td>\n",
       "    </tr>\n",
       "    <tr>\n",
       "      <th>7</th>\n",
       "      <td>Brain and Other Nervous System</td>\n",
       "      <td>Arizona</td>\n",
       "      <td>2019</td>\n",
       "      <td>60-64 years</td>\n",
       "      <td>Male</td>\n",
       "      <td>M</td>\n",
       "      <td>30.0</td>\n",
       "      <td>204086.0</td>\n",
       "      <td>14.7</td>\n",
       "    </tr>\n",
       "    <tr>\n",
       "      <th>8</th>\n",
       "      <td>Brain and Other Nervous System</td>\n",
       "      <td>Arizona</td>\n",
       "      <td>2019</td>\n",
       "      <td>65-69 years</td>\n",
       "      <td>Male</td>\n",
       "      <td>M</td>\n",
       "      <td>24.0</td>\n",
       "      <td>184808.0</td>\n",
       "      <td>13.0</td>\n",
       "    </tr>\n",
       "    <tr>\n",
       "      <th>9</th>\n",
       "      <td>Brain and Other Nervous System</td>\n",
       "      <td>Arizona</td>\n",
       "      <td>2019</td>\n",
       "      <td>70-74 years</td>\n",
       "      <td>Male</td>\n",
       "      <td>M</td>\n",
       "      <td>33.0</td>\n",
       "      <td>166440.0</td>\n",
       "      <td>19.8</td>\n",
       "    </tr>\n",
       "  </tbody>\n",
       "</table>\n",
       "</div>"
      ],
      "text/plain": [
       "             Leading Cancer Sites   States  Year    Age Groups   Sex Sex Code  \\\n",
       "0  Brain and Other Nervous System  Alabama  2019   50-54 years  Male        M   \n",
       "1  Brain and Other Nervous System  Alabama  2019   55-59 years  Male        M   \n",
       "2  Brain and Other Nervous System  Alabama  2019  60-64 years   Male        M   \n",
       "3  Brain and Other Nervous System  Alabama  2019   65-69 years  Male        M   \n",
       "4  Brain and Other Nervous System  Alabama  2019   75-79 years  Male        M   \n",
       "5  Brain and Other Nervous System  Arizona  2019   50-54 years  Male        M   \n",
       "6  Brain and Other Nervous System  Arizona  2019   55-59 years  Male        M   \n",
       "7  Brain and Other Nervous System  Arizona  2019  60-64 years   Male        M   \n",
       "8  Brain and Other Nervous System  Arizona  2019   65-69 years  Male        M   \n",
       "9  Brain and Other Nervous System  Arizona  2019   70-74 years  Male        M   \n",
       "\n",
       "   Count  Population  Crude Rate  \n",
       "0   19.0    149277.0        12.7  \n",
       "1   23.0    161482.0        14.2  \n",
       "2   30.0    151504.0        19.8  \n",
       "3   36.0    127679.0        28.2  \n",
       "4   20.0     68256.0        29.3  \n",
       "5   17.0    206772.0         8.2  \n",
       "6   22.0    216293.0        10.2  \n",
       "7   30.0    204086.0        14.7  \n",
       "8   24.0    184808.0        13.0  \n",
       "9   33.0    166440.0        19.8  "
      ]
     },
     "execution_count": 35,
     "metadata": {},
     "output_type": "execute_result"
    }
   ],
   "source": [
    "df_2019.head(10)"
   ]
  },
  {
   "cell_type": "markdown",
   "id": "d0fb3b30",
   "metadata": {},
   "source": [
    "## Cleaning process 2018 data"
   ]
  },
  {
   "cell_type": "code",
   "execution_count": 36,
   "id": "3657547a",
   "metadata": {},
   "outputs": [
    {
     "data": {
      "text/plain": [
       "(12325, 14)"
      ]
     },
     "execution_count": 36,
     "metadata": {},
     "output_type": "execute_result"
    }
   ],
   "source": [
    "#checking the dataypes and other cehcks on data frame\n",
    "df_2018.shape"
   ]
  },
  {
   "cell_type": "code",
   "execution_count": 37,
   "id": "15076e17",
   "metadata": {},
   "outputs": [
    {
     "name": "stdout",
     "output_type": "stream",
     "text": [
      "<class 'pandas.core.frame.DataFrame'>\n",
      "RangeIndex: 12325 entries, 0 to 12324\n",
      "Data columns (total 14 columns):\n",
      " #   Column                     Non-Null Count  Dtype  \n",
      "---  ------                     --------------  -----  \n",
      " 0   Notes                      62 non-null     object \n",
      " 1   Leading Cancer Sites       12263 non-null  object \n",
      " 2   Leading Cancer Sites Code  12263 non-null  object \n",
      " 3   States                     12263 non-null  object \n",
      " 4   States Code                12263 non-null  float64\n",
      " 5   Year                       12263 non-null  float64\n",
      " 6   Year Code                  12263 non-null  float64\n",
      " 7   Age Groups                 12263 non-null  object \n",
      " 8   Age Groups Code            12263 non-null  object \n",
      " 9   Sex                        12263 non-null  object \n",
      " 10  Sex Code                   12263 non-null  object \n",
      " 11  Count                      12263 non-null  float64\n",
      " 12  Population                 12263 non-null  float64\n",
      " 13  Crude Rate                 12263 non-null  float64\n",
      "dtypes: float64(6), object(8)\n",
      "memory usage: 1.3+ MB\n"
     ]
    }
   ],
   "source": [
    "df_2018.info()"
   ]
  },
  {
   "cell_type": "markdown",
   "id": "9cc67abe",
   "metadata": {},
   "source": [
    "## Considering this is a similar set of data, we will drop Notes, Leading Cancer Sites Code,States Code ,Year Code and Age Group Code"
   ]
  },
  {
   "cell_type": "code",
   "execution_count": 38,
   "id": "319f804b",
   "metadata": {},
   "outputs": [],
   "source": [
    "#dropping columns\n",
    "df_2018.drop(columns=['Notes','Leading Cancer Sites Code','States Code','Year Code','Age Groups Code'],inplace=True)"
   ]
  },
  {
   "cell_type": "code",
   "execution_count": 39,
   "id": "0052139a",
   "metadata": {},
   "outputs": [
    {
     "data": {
      "text/plain": [
       "(12325, 9)"
      ]
     },
     "execution_count": 39,
     "metadata": {},
     "output_type": "execute_result"
    }
   ],
   "source": [
    "#verifying\n",
    "df_2018.shape"
   ]
  },
  {
   "cell_type": "code",
   "execution_count": 40,
   "id": "b40eeab0",
   "metadata": {},
   "outputs": [
    {
     "name": "stdout",
     "output_type": "stream",
     "text": [
      "<class 'pandas.core.frame.DataFrame'>\n",
      "RangeIndex: 12325 entries, 0 to 12324\n",
      "Data columns (total 9 columns):\n",
      " #   Column                Non-Null Count  Dtype  \n",
      "---  ------                --------------  -----  \n",
      " 0   Leading Cancer Sites  12263 non-null  object \n",
      " 1   States                12263 non-null  object \n",
      " 2   Year                  12263 non-null  float64\n",
      " 3   Age Groups            12263 non-null  object \n",
      " 4   Sex                   12263 non-null  object \n",
      " 5   Sex Code              12263 non-null  object \n",
      " 6   Count                 12263 non-null  float64\n",
      " 7   Population            12263 non-null  float64\n",
      " 8   Crude Rate            12263 non-null  float64\n",
      "dtypes: float64(4), object(5)\n",
      "memory usage: 866.7+ KB\n"
     ]
    }
   ],
   "source": [
    "#verifying\n",
    "df_2018.info()"
   ]
  },
  {
   "cell_type": "markdown",
   "id": "9d9dbb19",
   "metadata": {},
   "source": [
    "## Checking value counts to check NULL values and "
   ]
  },
  {
   "cell_type": "code",
   "execution_count": 41,
   "id": "614ee571",
   "metadata": {},
   "outputs": [
    {
     "data": {
      "text/plain": [
       "Leading Cancer Sites    62\n",
       "States                  62\n",
       "Year                    62\n",
       "Age Groups              62\n",
       "Sex                     62\n",
       "Sex Code                62\n",
       "Count                   62\n",
       "Population              62\n",
       "Crude Rate              62\n",
       "dtype: int64"
      ]
     },
     "execution_count": 41,
     "metadata": {},
     "output_type": "execute_result"
    }
   ],
   "source": [
    "df_2018.isnull().sum()"
   ]
  },
  {
   "cell_type": "code",
   "execution_count": 42,
   "id": "c47f3a3f",
   "metadata": {},
   "outputs": [],
   "source": [
    "#dropping NULL values\n",
    "df_2018.dropna(inplace = True)"
   ]
  },
  {
   "cell_type": "code",
   "execution_count": 43,
   "id": "da22d3cd",
   "metadata": {},
   "outputs": [
    {
     "data": {
      "text/plain": [
       "(12263, 9)"
      ]
     },
     "execution_count": 43,
     "metadata": {},
     "output_type": "execute_result"
    }
   ],
   "source": [
    "#verify\n",
    "df_2018.shape"
   ]
  },
  {
   "cell_type": "code",
   "execution_count": 44,
   "id": "8d32877b",
   "metadata": {},
   "outputs": [],
   "source": [
    "##this shows all 59 rows were empty rows."
   ]
  },
  {
   "cell_type": "code",
   "execution_count": 45,
   "id": "b5a517de",
   "metadata": {},
   "outputs": [],
   "source": [
    "#mixed data columns\n",
    "for col in df_2018.columns.tolist():\n",
    "  weird = (df_2018[[col]].applymap(type) != df_2018[[col]].iloc[0].apply(type)).any(axis = 1)\n",
    "  if len (df_2018[weird]) > 0:\n",
    "    print (col)"
   ]
  },
  {
   "cell_type": "code",
   "execution_count": 46,
   "id": "1c535670",
   "metadata": {},
   "outputs": [
    {
     "data": {
      "text/plain": [
       "Leading Cancer Sites    0\n",
       "States                  0\n",
       "Year                    0\n",
       "Age Groups              0\n",
       "Sex                     0\n",
       "Sex Code                0\n",
       "Count                   0\n",
       "Population              0\n",
       "Crude Rate              0\n",
       "dtype: int64"
      ]
     },
     "execution_count": 46,
     "metadata": {},
     "output_type": "execute_result"
    }
   ],
   "source": [
    "#checking null again\n",
    "df_2018.isnull().sum()"
   ]
  },
  {
   "cell_type": "code",
   "execution_count": 47,
   "id": "9f56d25b",
   "metadata": {},
   "outputs": [],
   "source": [
    "#checking duplicates\n",
    "df_dups_2018 = df_2018[df_2018.duplicated()]"
   ]
  },
  {
   "cell_type": "code",
   "execution_count": 48,
   "id": "10b5dc21",
   "metadata": {},
   "outputs": [
    {
     "data": {
      "text/html": [
       "<div>\n",
       "<style scoped>\n",
       "    .dataframe tbody tr th:only-of-type {\n",
       "        vertical-align: middle;\n",
       "    }\n",
       "\n",
       "    .dataframe tbody tr th {\n",
       "        vertical-align: top;\n",
       "    }\n",
       "\n",
       "    .dataframe thead th {\n",
       "        text-align: right;\n",
       "    }\n",
       "</style>\n",
       "<table border=\"1\" class=\"dataframe\">\n",
       "  <thead>\n",
       "    <tr style=\"text-align: right;\">\n",
       "      <th></th>\n",
       "      <th>Leading Cancer Sites</th>\n",
       "      <th>States</th>\n",
       "      <th>Year</th>\n",
       "      <th>Age Groups</th>\n",
       "      <th>Sex</th>\n",
       "      <th>Sex Code</th>\n",
       "      <th>Count</th>\n",
       "      <th>Population</th>\n",
       "      <th>Crude Rate</th>\n",
       "    </tr>\n",
       "  </thead>\n",
       "  <tbody>\n",
       "  </tbody>\n",
       "</table>\n",
       "</div>"
      ],
      "text/plain": [
       "Empty DataFrame\n",
       "Columns: [Leading Cancer Sites, States, Year, Age Groups, Sex, Sex Code, Count, Population, Crude Rate]\n",
       "Index: []"
      ]
     },
     "execution_count": 48,
     "metadata": {},
     "output_type": "execute_result"
    }
   ],
   "source": [
    "df_dups_2018"
   ]
  },
  {
   "cell_type": "markdown",
   "id": "057454d6",
   "metadata": {},
   "source": [
    "### The data is clean without duplicates,mixed data type and NULL values"
   ]
  },
  {
   "cell_type": "code",
   "execution_count": 49,
   "id": "06f67e4d",
   "metadata": {},
   "outputs": [],
   "source": [
    "#changing year to integer\n",
    "df_2018['Year']=df_2018['Year'].astype('int')"
   ]
  },
  {
   "cell_type": "code",
   "execution_count": 50,
   "id": "e0b6091b",
   "metadata": {},
   "outputs": [
    {
     "data": {
      "text/plain": [
       "(12263, 9)"
      ]
     },
     "execution_count": 50,
     "metadata": {},
     "output_type": "execute_result"
    }
   ],
   "source": [
    "df_2018.shape"
   ]
  },
  {
   "cell_type": "code",
   "execution_count": 51,
   "id": "204aad90",
   "metadata": {},
   "outputs": [
    {
     "name": "stdout",
     "output_type": "stream",
     "text": [
      "<class 'pandas.core.frame.DataFrame'>\n",
      "Int64Index: 12263 entries, 0 to 12262\n",
      "Data columns (total 9 columns):\n",
      " #   Column                Non-Null Count  Dtype  \n",
      "---  ------                --------------  -----  \n",
      " 0   Leading Cancer Sites  12263 non-null  object \n",
      " 1   States                12263 non-null  object \n",
      " 2   Year                  12263 non-null  int64  \n",
      " 3   Age Groups            12263 non-null  object \n",
      " 4   Sex                   12263 non-null  object \n",
      " 5   Sex Code              12263 non-null  object \n",
      " 6   Count                 12263 non-null  float64\n",
      " 7   Population            12263 non-null  float64\n",
      " 8   Crude Rate            12263 non-null  float64\n",
      "dtypes: float64(3), int64(1), object(5)\n",
      "memory usage: 958.0+ KB\n"
     ]
    }
   ],
   "source": [
    "df_2018.info()"
   ]
  },
  {
   "cell_type": "code",
   "execution_count": 52,
   "id": "2cbb2b6a",
   "metadata": {},
   "outputs": [
    {
     "data": {
      "text/html": [
       "<div>\n",
       "<style scoped>\n",
       "    .dataframe tbody tr th:only-of-type {\n",
       "        vertical-align: middle;\n",
       "    }\n",
       "\n",
       "    .dataframe tbody tr th {\n",
       "        vertical-align: top;\n",
       "    }\n",
       "\n",
       "    .dataframe thead th {\n",
       "        text-align: right;\n",
       "    }\n",
       "</style>\n",
       "<table border=\"1\" class=\"dataframe\">\n",
       "  <thead>\n",
       "    <tr style=\"text-align: right;\">\n",
       "      <th></th>\n",
       "      <th>Year</th>\n",
       "      <th>Count</th>\n",
       "      <th>Population</th>\n",
       "      <th>Crude Rate</th>\n",
       "    </tr>\n",
       "  </thead>\n",
       "  <tbody>\n",
       "    <tr>\n",
       "      <th>count</th>\n",
       "      <td>12263.0</td>\n",
       "      <td>12263.000000</td>\n",
       "      <td>1.226300e+04</td>\n",
       "      <td>12263.000000</td>\n",
       "    </tr>\n",
       "    <tr>\n",
       "      <th>mean</th>\n",
       "      <td>2018.0</td>\n",
       "      <td>122.640871</td>\n",
       "      <td>2.344209e+05</td>\n",
       "      <td>89.401517</td>\n",
       "    </tr>\n",
       "    <tr>\n",
       "      <th>std</th>\n",
       "      <td>0.0</td>\n",
       "      <td>240.223132</td>\n",
       "      <td>2.539047e+05</td>\n",
       "      <td>125.048592</td>\n",
       "    </tr>\n",
       "    <tr>\n",
       "      <th>min</th>\n",
       "      <td>2018.0</td>\n",
       "      <td>16.000000</td>\n",
       "      <td>3.525000e+03</td>\n",
       "      <td>1.100000</td>\n",
       "    </tr>\n",
       "    <tr>\n",
       "      <th>25%</th>\n",
       "      <td>2018.0</td>\n",
       "      <td>27.000000</td>\n",
       "      <td>7.266800e+04</td>\n",
       "      <td>18.300000</td>\n",
       "    </tr>\n",
       "    <tr>\n",
       "      <th>50%</th>\n",
       "      <td>2018.0</td>\n",
       "      <td>51.000000</td>\n",
       "      <td>1.576720e+05</td>\n",
       "      <td>41.300000</td>\n",
       "    </tr>\n",
       "    <tr>\n",
       "      <th>75%</th>\n",
       "      <td>2018.0</td>\n",
       "      <td>115.000000</td>\n",
       "      <td>2.900540e+05</td>\n",
       "      <td>95.000000</td>\n",
       "    </tr>\n",
       "    <tr>\n",
       "      <th>max</th>\n",
       "      <td>2018.0</td>\n",
       "      <td>4886.000000</td>\n",
       "      <td>1.614451e+06</td>\n",
       "      <td>920.500000</td>\n",
       "    </tr>\n",
       "  </tbody>\n",
       "</table>\n",
       "</div>"
      ],
      "text/plain": [
       "          Year         Count    Population    Crude Rate\n",
       "count  12263.0  12263.000000  1.226300e+04  12263.000000\n",
       "mean    2018.0    122.640871  2.344209e+05     89.401517\n",
       "std        0.0    240.223132  2.539047e+05    125.048592\n",
       "min     2018.0     16.000000  3.525000e+03      1.100000\n",
       "25%     2018.0     27.000000  7.266800e+04     18.300000\n",
       "50%     2018.0     51.000000  1.576720e+05     41.300000\n",
       "75%     2018.0    115.000000  2.900540e+05     95.000000\n",
       "max     2018.0   4886.000000  1.614451e+06    920.500000"
      ]
     },
     "execution_count": 52,
     "metadata": {},
     "output_type": "execute_result"
    }
   ],
   "source": [
    "df_2018.describe()"
   ]
  },
  {
   "cell_type": "code",
   "execution_count": 53,
   "id": "d2c4f3e1",
   "metadata": {},
   "outputs": [
    {
     "data": {
      "text/html": [
       "<div>\n",
       "<style scoped>\n",
       "    .dataframe tbody tr th:only-of-type {\n",
       "        vertical-align: middle;\n",
       "    }\n",
       "\n",
       "    .dataframe tbody tr th {\n",
       "        vertical-align: top;\n",
       "    }\n",
       "\n",
       "    .dataframe thead th {\n",
       "        text-align: right;\n",
       "    }\n",
       "</style>\n",
       "<table border=\"1\" class=\"dataframe\">\n",
       "  <thead>\n",
       "    <tr style=\"text-align: right;\">\n",
       "      <th></th>\n",
       "      <th>Leading Cancer Sites</th>\n",
       "      <th>States</th>\n",
       "      <th>Year</th>\n",
       "      <th>Age Groups</th>\n",
       "      <th>Sex</th>\n",
       "      <th>Sex Code</th>\n",
       "      <th>Count</th>\n",
       "      <th>Population</th>\n",
       "      <th>Crude Rate</th>\n",
       "    </tr>\n",
       "  </thead>\n",
       "  <tbody>\n",
       "    <tr>\n",
       "      <th>0</th>\n",
       "      <td>Brain and Other Nervous System</td>\n",
       "      <td>Alabama</td>\n",
       "      <td>2018</td>\n",
       "      <td>60-64 years</td>\n",
       "      <td>Female</td>\n",
       "      <td>F</td>\n",
       "      <td>23.0</td>\n",
       "      <td>168342.0</td>\n",
       "      <td>13.7</td>\n",
       "    </tr>\n",
       "    <tr>\n",
       "      <th>1</th>\n",
       "      <td>Brain and Other Nervous System</td>\n",
       "      <td>Alabama</td>\n",
       "      <td>2018</td>\n",
       "      <td>65-69 years</td>\n",
       "      <td>Female</td>\n",
       "      <td>F</td>\n",
       "      <td>21.0</td>\n",
       "      <td>145302.0</td>\n",
       "      <td>14.5</td>\n",
       "    </tr>\n",
       "    <tr>\n",
       "      <th>2</th>\n",
       "      <td>Brain and Other Nervous System</td>\n",
       "      <td>Alabama</td>\n",
       "      <td>2018</td>\n",
       "      <td>70-74 years</td>\n",
       "      <td>Female</td>\n",
       "      <td>F</td>\n",
       "      <td>23.0</td>\n",
       "      <td>117686.0</td>\n",
       "      <td>19.5</td>\n",
       "    </tr>\n",
       "    <tr>\n",
       "      <th>3</th>\n",
       "      <td>Brain and Other Nervous System</td>\n",
       "      <td>Alabama</td>\n",
       "      <td>2018</td>\n",
       "      <td>75-79 years</td>\n",
       "      <td>Female</td>\n",
       "      <td>F</td>\n",
       "      <td>19.0</td>\n",
       "      <td>84846.0</td>\n",
       "      <td>22.4</td>\n",
       "    </tr>\n",
       "    <tr>\n",
       "      <th>4</th>\n",
       "      <td>Brain and Other Nervous System</td>\n",
       "      <td>Alabama</td>\n",
       "      <td>2018</td>\n",
       "      <td>80-84 years</td>\n",
       "      <td>Female</td>\n",
       "      <td>F</td>\n",
       "      <td>18.0</td>\n",
       "      <td>58233.0</td>\n",
       "      <td>30.9</td>\n",
       "    </tr>\n",
       "  </tbody>\n",
       "</table>\n",
       "</div>"
      ],
      "text/plain": [
       "             Leading Cancer Sites   States  Year    Age Groups     Sex  \\\n",
       "0  Brain and Other Nervous System  Alabama  2018  60-64 years   Female   \n",
       "1  Brain and Other Nervous System  Alabama  2018   65-69 years  Female   \n",
       "2  Brain and Other Nervous System  Alabama  2018   70-74 years  Female   \n",
       "3  Brain and Other Nervous System  Alabama  2018   75-79 years  Female   \n",
       "4  Brain and Other Nervous System  Alabama  2018   80-84 years  Female   \n",
       "\n",
       "  Sex Code  Count  Population  Crude Rate  \n",
       "0        F   23.0    168342.0        13.7  \n",
       "1        F   21.0    145302.0        14.5  \n",
       "2        F   23.0    117686.0        19.5  \n",
       "3        F   19.0     84846.0        22.4  \n",
       "4        F   18.0     58233.0        30.9  "
      ]
     },
     "execution_count": 53,
     "metadata": {},
     "output_type": "execute_result"
    }
   ],
   "source": [
    "#final data frame for 2018\n",
    "df_2018.head()"
   ]
  },
  {
   "cell_type": "markdown",
   "id": "3c6d621a",
   "metadata": {},
   "source": [
    "## Appending data frames into one"
   ]
  },
  {
   "cell_type": "code",
   "execution_count": 54,
   "id": "3bcb80e0",
   "metadata": {},
   "outputs": [
    {
     "data": {
      "text/plain": [
       "(12178, 9)"
      ]
     },
     "execution_count": 54,
     "metadata": {},
     "output_type": "execute_result"
    }
   ],
   "source": [
    "#checking and making sure both data sets have same format\n",
    "df_2019.shape"
   ]
  },
  {
   "cell_type": "code",
   "execution_count": 55,
   "id": "6103ba16",
   "metadata": {},
   "outputs": [
    {
     "data": {
      "text/plain": [
       "(12263, 9)"
      ]
     },
     "execution_count": 55,
     "metadata": {},
     "output_type": "execute_result"
    }
   ],
   "source": [
    "df_2018.shape"
   ]
  },
  {
   "cell_type": "code",
   "execution_count": 56,
   "id": "28a0bae7",
   "metadata": {},
   "outputs": [],
   "source": [
    "#creating frame\n",
    "frames=[df_2018,df_2019]"
   ]
  },
  {
   "cell_type": "code",
   "execution_count": 57,
   "id": "e8bb5abc",
   "metadata": {},
   "outputs": [
    {
     "data": {
      "text/plain": [
       "[                        Leading Cancer Sites   States  Year    Age Groups  \\\n",
       " 0             Brain and Other Nervous System  Alabama  2018  60-64 years    \n",
       " 1             Brain and Other Nervous System  Alabama  2018   65-69 years   \n",
       " 2             Brain and Other Nervous System  Alabama  2018   70-74 years   \n",
       " 3             Brain and Other Nervous System  Alabama  2018   75-79 years   \n",
       " 4             Brain and Other Nervous System  Alabama  2018   80-84 years   \n",
       " ...                                      ...      ...   ...           ...   \n",
       " 12258  Urinary Bladder, invasive and in situ  Wyoming  2018   65-69 years   \n",
       " 12259  Urinary Bladder, invasive and in situ  Wyoming  2018   70-74 years   \n",
       " 12260  Urinary Bladder, invasive and in situ  Wyoming  2018   75-79 years   \n",
       " 12261  Urinary Bladder, invasive and in situ  Wyoming  2018   80-84 years   \n",
       " 12262  Urinary Bladder, invasive and in situ  Wyoming  2018     85+ years   \n",
       " \n",
       "           Sex Sex Code  Count  Population  Crude Rate  \n",
       " 0      Female        F   23.0    168342.0        13.7  \n",
       " 1      Female        F   21.0    145302.0        14.5  \n",
       " 2      Female        F   23.0    117686.0        19.5  \n",
       " 3      Female        F   19.0     84846.0        22.4  \n",
       " 4      Female        F   18.0     58233.0        30.9  \n",
       " ...       ...      ...    ...         ...         ...  \n",
       " 12258    Male        M   20.0     17169.0       116.5  \n",
       " 12259    Male        M   18.0     12340.0       145.9  \n",
       " 12260    Male        M   16.0      7813.0       204.8  \n",
       " 12261    Male        M   22.0      4665.0       471.6  \n",
       " 12262    Male        M   19.0      4163.0       456.4  \n",
       " \n",
       " [12263 rows x 9 columns],\n",
       "                         Leading Cancer Sites     States  Year    Age Groups  \\\n",
       " 0             Brain and Other Nervous System    Alabama  2019   50-54 years   \n",
       " 1             Brain and Other Nervous System    Alabama  2019   55-59 years   \n",
       " 2             Brain and Other Nervous System    Alabama  2019  60-64 years    \n",
       " 3             Brain and Other Nervous System    Alabama  2019   65-69 years   \n",
       " 4             Brain and Other Nervous System    Alabama  2019   75-79 years   \n",
       " ...                                      ...        ...   ...           ...   \n",
       " 12173  Urinary Bladder, invasive and in situ  Wisconsin  2019   65-69 years   \n",
       " 12174  Urinary Bladder, invasive and in situ  Wisconsin  2019   70-74 years   \n",
       " 12175  Urinary Bladder, invasive and in situ  Wisconsin  2019   75-79 years   \n",
       " 12176  Urinary Bladder, invasive and in situ  Wisconsin  2019   80-84 years   \n",
       " 12177  Urinary Bladder, invasive and in situ  Wisconsin  2019     85+ years   \n",
       " \n",
       "           Sex Sex Code  Count  Population  Crude Rate  \n",
       " 0        Male        M   19.0    149277.0        12.7  \n",
       " 1        Male        M   23.0    161482.0        14.2  \n",
       " 2        Male        M   30.0    151504.0        19.8  \n",
       " 3        Male        M   36.0    127679.0        28.2  \n",
       " 4        Male        M   20.0     68256.0        29.3  \n",
       " ...       ...      ...    ...         ...         ...  \n",
       " 12173  Female        F   41.0    173144.0        23.7  \n",
       " 12174  Female        F   76.0    133024.0        57.1  \n",
       " 12175  Female        F   69.0     94842.0        72.8  \n",
       " 12176  Female        F   53.0     67245.0        78.8  \n",
       " 12177  Female        F   69.0     82068.0        84.1  \n",
       " \n",
       " [12178 rows x 9 columns]]"
      ]
     },
     "execution_count": 57,
     "metadata": {},
     "output_type": "execute_result"
    }
   ],
   "source": [
    "frames"
   ]
  },
  {
   "cell_type": "code",
   "execution_count": 58,
   "id": "9c01f9b5",
   "metadata": {},
   "outputs": [],
   "source": [
    "#concatenating both data frames into one\n",
    "df_final_1819=pd.concat(frames)"
   ]
  },
  {
   "cell_type": "code",
   "execution_count": 59,
   "id": "838c8104",
   "metadata": {},
   "outputs": [
    {
     "data": {
      "text/html": [
       "<div>\n",
       "<style scoped>\n",
       "    .dataframe tbody tr th:only-of-type {\n",
       "        vertical-align: middle;\n",
       "    }\n",
       "\n",
       "    .dataframe tbody tr th {\n",
       "        vertical-align: top;\n",
       "    }\n",
       "\n",
       "    .dataframe thead th {\n",
       "        text-align: right;\n",
       "    }\n",
       "</style>\n",
       "<table border=\"1\" class=\"dataframe\">\n",
       "  <thead>\n",
       "    <tr style=\"text-align: right;\">\n",
       "      <th></th>\n",
       "      <th>Leading Cancer Sites</th>\n",
       "      <th>States</th>\n",
       "      <th>Year</th>\n",
       "      <th>Age Groups</th>\n",
       "      <th>Sex</th>\n",
       "      <th>Sex Code</th>\n",
       "      <th>Count</th>\n",
       "      <th>Population</th>\n",
       "      <th>Crude Rate</th>\n",
       "    </tr>\n",
       "  </thead>\n",
       "  <tbody>\n",
       "    <tr>\n",
       "      <th>0</th>\n",
       "      <td>Brain and Other Nervous System</td>\n",
       "      <td>Alabama</td>\n",
       "      <td>2018</td>\n",
       "      <td>60-64 years</td>\n",
       "      <td>Female</td>\n",
       "      <td>F</td>\n",
       "      <td>23.0</td>\n",
       "      <td>168342.0</td>\n",
       "      <td>13.7</td>\n",
       "    </tr>\n",
       "    <tr>\n",
       "      <th>1</th>\n",
       "      <td>Brain and Other Nervous System</td>\n",
       "      <td>Alabama</td>\n",
       "      <td>2018</td>\n",
       "      <td>65-69 years</td>\n",
       "      <td>Female</td>\n",
       "      <td>F</td>\n",
       "      <td>21.0</td>\n",
       "      <td>145302.0</td>\n",
       "      <td>14.5</td>\n",
       "    </tr>\n",
       "    <tr>\n",
       "      <th>2</th>\n",
       "      <td>Brain and Other Nervous System</td>\n",
       "      <td>Alabama</td>\n",
       "      <td>2018</td>\n",
       "      <td>70-74 years</td>\n",
       "      <td>Female</td>\n",
       "      <td>F</td>\n",
       "      <td>23.0</td>\n",
       "      <td>117686.0</td>\n",
       "      <td>19.5</td>\n",
       "    </tr>\n",
       "    <tr>\n",
       "      <th>3</th>\n",
       "      <td>Brain and Other Nervous System</td>\n",
       "      <td>Alabama</td>\n",
       "      <td>2018</td>\n",
       "      <td>75-79 years</td>\n",
       "      <td>Female</td>\n",
       "      <td>F</td>\n",
       "      <td>19.0</td>\n",
       "      <td>84846.0</td>\n",
       "      <td>22.4</td>\n",
       "    </tr>\n",
       "    <tr>\n",
       "      <th>4</th>\n",
       "      <td>Brain and Other Nervous System</td>\n",
       "      <td>Alabama</td>\n",
       "      <td>2018</td>\n",
       "      <td>80-84 years</td>\n",
       "      <td>Female</td>\n",
       "      <td>F</td>\n",
       "      <td>18.0</td>\n",
       "      <td>58233.0</td>\n",
       "      <td>30.9</td>\n",
       "    </tr>\n",
       "    <tr>\n",
       "      <th>...</th>\n",
       "      <td>...</td>\n",
       "      <td>...</td>\n",
       "      <td>...</td>\n",
       "      <td>...</td>\n",
       "      <td>...</td>\n",
       "      <td>...</td>\n",
       "      <td>...</td>\n",
       "      <td>...</td>\n",
       "      <td>...</td>\n",
       "    </tr>\n",
       "    <tr>\n",
       "      <th>12173</th>\n",
       "      <td>Urinary Bladder, invasive and in situ</td>\n",
       "      <td>Wisconsin</td>\n",
       "      <td>2019</td>\n",
       "      <td>65-69 years</td>\n",
       "      <td>Female</td>\n",
       "      <td>F</td>\n",
       "      <td>41.0</td>\n",
       "      <td>173144.0</td>\n",
       "      <td>23.7</td>\n",
       "    </tr>\n",
       "    <tr>\n",
       "      <th>12174</th>\n",
       "      <td>Urinary Bladder, invasive and in situ</td>\n",
       "      <td>Wisconsin</td>\n",
       "      <td>2019</td>\n",
       "      <td>70-74 years</td>\n",
       "      <td>Female</td>\n",
       "      <td>F</td>\n",
       "      <td>76.0</td>\n",
       "      <td>133024.0</td>\n",
       "      <td>57.1</td>\n",
       "    </tr>\n",
       "    <tr>\n",
       "      <th>12175</th>\n",
       "      <td>Urinary Bladder, invasive and in situ</td>\n",
       "      <td>Wisconsin</td>\n",
       "      <td>2019</td>\n",
       "      <td>75-79 years</td>\n",
       "      <td>Female</td>\n",
       "      <td>F</td>\n",
       "      <td>69.0</td>\n",
       "      <td>94842.0</td>\n",
       "      <td>72.8</td>\n",
       "    </tr>\n",
       "    <tr>\n",
       "      <th>12176</th>\n",
       "      <td>Urinary Bladder, invasive and in situ</td>\n",
       "      <td>Wisconsin</td>\n",
       "      <td>2019</td>\n",
       "      <td>80-84 years</td>\n",
       "      <td>Female</td>\n",
       "      <td>F</td>\n",
       "      <td>53.0</td>\n",
       "      <td>67245.0</td>\n",
       "      <td>78.8</td>\n",
       "    </tr>\n",
       "    <tr>\n",
       "      <th>12177</th>\n",
       "      <td>Urinary Bladder, invasive and in situ</td>\n",
       "      <td>Wisconsin</td>\n",
       "      <td>2019</td>\n",
       "      <td>85+ years</td>\n",
       "      <td>Female</td>\n",
       "      <td>F</td>\n",
       "      <td>69.0</td>\n",
       "      <td>82068.0</td>\n",
       "      <td>84.1</td>\n",
       "    </tr>\n",
       "  </tbody>\n",
       "</table>\n",
       "<p>24441 rows × 9 columns</p>\n",
       "</div>"
      ],
      "text/plain": [
       "                        Leading Cancer Sites     States  Year    Age Groups  \\\n",
       "0             Brain and Other Nervous System    Alabama  2018  60-64 years    \n",
       "1             Brain and Other Nervous System    Alabama  2018   65-69 years   \n",
       "2             Brain and Other Nervous System    Alabama  2018   70-74 years   \n",
       "3             Brain and Other Nervous System    Alabama  2018   75-79 years   \n",
       "4             Brain and Other Nervous System    Alabama  2018   80-84 years   \n",
       "...                                      ...        ...   ...           ...   \n",
       "12173  Urinary Bladder, invasive and in situ  Wisconsin  2019   65-69 years   \n",
       "12174  Urinary Bladder, invasive and in situ  Wisconsin  2019   70-74 years   \n",
       "12175  Urinary Bladder, invasive and in situ  Wisconsin  2019   75-79 years   \n",
       "12176  Urinary Bladder, invasive and in situ  Wisconsin  2019   80-84 years   \n",
       "12177  Urinary Bladder, invasive and in situ  Wisconsin  2019     85+ years   \n",
       "\n",
       "          Sex Sex Code  Count  Population  Crude Rate  \n",
       "0      Female        F   23.0    168342.0        13.7  \n",
       "1      Female        F   21.0    145302.0        14.5  \n",
       "2      Female        F   23.0    117686.0        19.5  \n",
       "3      Female        F   19.0     84846.0        22.4  \n",
       "4      Female        F   18.0     58233.0        30.9  \n",
       "...       ...      ...    ...         ...         ...  \n",
       "12173  Female        F   41.0    173144.0        23.7  \n",
       "12174  Female        F   76.0    133024.0        57.1  \n",
       "12175  Female        F   69.0     94842.0        72.8  \n",
       "12176  Female        F   53.0     67245.0        78.8  \n",
       "12177  Female        F   69.0     82068.0        84.1  \n",
       "\n",
       "[24441 rows x 9 columns]"
      ]
     },
     "execution_count": 59,
     "metadata": {},
     "output_type": "execute_result"
    }
   ],
   "source": [
    "df_final_1819"
   ]
  },
  {
   "cell_type": "code",
   "execution_count": 60,
   "id": "1002a323",
   "metadata": {},
   "outputs": [
    {
     "data": {
      "text/html": [
       "<div>\n",
       "<style scoped>\n",
       "    .dataframe tbody tr th:only-of-type {\n",
       "        vertical-align: middle;\n",
       "    }\n",
       "\n",
       "    .dataframe tbody tr th {\n",
       "        vertical-align: top;\n",
       "    }\n",
       "\n",
       "    .dataframe thead th {\n",
       "        text-align: right;\n",
       "    }\n",
       "</style>\n",
       "<table border=\"1\" class=\"dataframe\">\n",
       "  <thead>\n",
       "    <tr style=\"text-align: right;\">\n",
       "      <th></th>\n",
       "      <th>Year</th>\n",
       "      <th>Count</th>\n",
       "      <th>Population</th>\n",
       "      <th>Crude Rate</th>\n",
       "    </tr>\n",
       "  </thead>\n",
       "  <tbody>\n",
       "    <tr>\n",
       "      <th>count</th>\n",
       "      <td>24441.000000</td>\n",
       "      <td>24441.000000</td>\n",
       "      <td>2.444100e+04</td>\n",
       "      <td>24441.000000</td>\n",
       "    </tr>\n",
       "    <tr>\n",
       "      <th>mean</th>\n",
       "      <td>2018.498261</td>\n",
       "      <td>123.294505</td>\n",
       "      <td>2.354541e+05</td>\n",
       "      <td>88.903699</td>\n",
       "    </tr>\n",
       "    <tr>\n",
       "      <th>std</th>\n",
       "      <td>0.500007</td>\n",
       "      <td>243.495846</td>\n",
       "      <td>2.541393e+05</td>\n",
       "      <td>124.574493</td>\n",
       "    </tr>\n",
       "    <tr>\n",
       "      <th>min</th>\n",
       "      <td>2018.000000</td>\n",
       "      <td>16.000000</td>\n",
       "      <td>3.525000e+03</td>\n",
       "      <td>1.100000</td>\n",
       "    </tr>\n",
       "    <tr>\n",
       "      <th>25%</th>\n",
       "      <td>2018.000000</td>\n",
       "      <td>27.000000</td>\n",
       "      <td>7.383100e+04</td>\n",
       "      <td>18.200000</td>\n",
       "    </tr>\n",
       "    <tr>\n",
       "      <th>50%</th>\n",
       "      <td>2018.000000</td>\n",
       "      <td>51.000000</td>\n",
       "      <td>1.582010e+05</td>\n",
       "      <td>41.100000</td>\n",
       "    </tr>\n",
       "    <tr>\n",
       "      <th>75%</th>\n",
       "      <td>2019.000000</td>\n",
       "      <td>116.000000</td>\n",
       "      <td>2.915870e+05</td>\n",
       "      <td>94.200000</td>\n",
       "    </tr>\n",
       "    <tr>\n",
       "      <th>max</th>\n",
       "      <td>2019.000000</td>\n",
       "      <td>5263.000000</td>\n",
       "      <td>1.614451e+06</td>\n",
       "      <td>920.500000</td>\n",
       "    </tr>\n",
       "  </tbody>\n",
       "</table>\n",
       "</div>"
      ],
      "text/plain": [
       "               Year         Count    Population    Crude Rate\n",
       "count  24441.000000  24441.000000  2.444100e+04  24441.000000\n",
       "mean    2018.498261    123.294505  2.354541e+05     88.903699\n",
       "std        0.500007    243.495846  2.541393e+05    124.574493\n",
       "min     2018.000000     16.000000  3.525000e+03      1.100000\n",
       "25%     2018.000000     27.000000  7.383100e+04     18.200000\n",
       "50%     2018.000000     51.000000  1.582010e+05     41.100000\n",
       "75%     2019.000000    116.000000  2.915870e+05     94.200000\n",
       "max     2019.000000   5263.000000  1.614451e+06    920.500000"
      ]
     },
     "execution_count": 60,
     "metadata": {},
     "output_type": "execute_result"
    }
   ],
   "source": [
    "df_final_1819.describe()"
   ]
  },
  {
   "cell_type": "code",
   "execution_count": 61,
   "id": "f143a28e",
   "metadata": {},
   "outputs": [],
   "source": [
    "#renaming Sex and Sex code to Gender\n",
    "df_final_1819.rename(columns={'Sex': 'Gender','Sex Code':'Gender Code'},inplace=True)"
   ]
  },
  {
   "cell_type": "code",
   "execution_count": 62,
   "id": "a1a54548",
   "metadata": {},
   "outputs": [
    {
     "data": {
      "text/html": [
       "<div>\n",
       "<style scoped>\n",
       "    .dataframe tbody tr th:only-of-type {\n",
       "        vertical-align: middle;\n",
       "    }\n",
       "\n",
       "    .dataframe tbody tr th {\n",
       "        vertical-align: top;\n",
       "    }\n",
       "\n",
       "    .dataframe thead th {\n",
       "        text-align: right;\n",
       "    }\n",
       "</style>\n",
       "<table border=\"1\" class=\"dataframe\">\n",
       "  <thead>\n",
       "    <tr style=\"text-align: right;\">\n",
       "      <th></th>\n",
       "      <th>Leading Cancer Sites</th>\n",
       "      <th>States</th>\n",
       "      <th>Year</th>\n",
       "      <th>Age Groups</th>\n",
       "      <th>Gender</th>\n",
       "      <th>Gender Code</th>\n",
       "      <th>Count</th>\n",
       "      <th>Population</th>\n",
       "      <th>Crude Rate</th>\n",
       "    </tr>\n",
       "  </thead>\n",
       "  <tbody>\n",
       "    <tr>\n",
       "      <th>0</th>\n",
       "      <td>Brain and Other Nervous System</td>\n",
       "      <td>Alabama</td>\n",
       "      <td>2018</td>\n",
       "      <td>60-64 years</td>\n",
       "      <td>Female</td>\n",
       "      <td>F</td>\n",
       "      <td>23.0</td>\n",
       "      <td>168342.0</td>\n",
       "      <td>13.7</td>\n",
       "    </tr>\n",
       "    <tr>\n",
       "      <th>1</th>\n",
       "      <td>Brain and Other Nervous System</td>\n",
       "      <td>Alabama</td>\n",
       "      <td>2018</td>\n",
       "      <td>65-69 years</td>\n",
       "      <td>Female</td>\n",
       "      <td>F</td>\n",
       "      <td>21.0</td>\n",
       "      <td>145302.0</td>\n",
       "      <td>14.5</td>\n",
       "    </tr>\n",
       "    <tr>\n",
       "      <th>2</th>\n",
       "      <td>Brain and Other Nervous System</td>\n",
       "      <td>Alabama</td>\n",
       "      <td>2018</td>\n",
       "      <td>70-74 years</td>\n",
       "      <td>Female</td>\n",
       "      <td>F</td>\n",
       "      <td>23.0</td>\n",
       "      <td>117686.0</td>\n",
       "      <td>19.5</td>\n",
       "    </tr>\n",
       "    <tr>\n",
       "      <th>3</th>\n",
       "      <td>Brain and Other Nervous System</td>\n",
       "      <td>Alabama</td>\n",
       "      <td>2018</td>\n",
       "      <td>75-79 years</td>\n",
       "      <td>Female</td>\n",
       "      <td>F</td>\n",
       "      <td>19.0</td>\n",
       "      <td>84846.0</td>\n",
       "      <td>22.4</td>\n",
       "    </tr>\n",
       "    <tr>\n",
       "      <th>4</th>\n",
       "      <td>Brain and Other Nervous System</td>\n",
       "      <td>Alabama</td>\n",
       "      <td>2018</td>\n",
       "      <td>80-84 years</td>\n",
       "      <td>Female</td>\n",
       "      <td>F</td>\n",
       "      <td>18.0</td>\n",
       "      <td>58233.0</td>\n",
       "      <td>30.9</td>\n",
       "    </tr>\n",
       "    <tr>\n",
       "      <th>...</th>\n",
       "      <td>...</td>\n",
       "      <td>...</td>\n",
       "      <td>...</td>\n",
       "      <td>...</td>\n",
       "      <td>...</td>\n",
       "      <td>...</td>\n",
       "      <td>...</td>\n",
       "      <td>...</td>\n",
       "      <td>...</td>\n",
       "    </tr>\n",
       "    <tr>\n",
       "      <th>12173</th>\n",
       "      <td>Urinary Bladder, invasive and in situ</td>\n",
       "      <td>Wisconsin</td>\n",
       "      <td>2019</td>\n",
       "      <td>65-69 years</td>\n",
       "      <td>Female</td>\n",
       "      <td>F</td>\n",
       "      <td>41.0</td>\n",
       "      <td>173144.0</td>\n",
       "      <td>23.7</td>\n",
       "    </tr>\n",
       "    <tr>\n",
       "      <th>12174</th>\n",
       "      <td>Urinary Bladder, invasive and in situ</td>\n",
       "      <td>Wisconsin</td>\n",
       "      <td>2019</td>\n",
       "      <td>70-74 years</td>\n",
       "      <td>Female</td>\n",
       "      <td>F</td>\n",
       "      <td>76.0</td>\n",
       "      <td>133024.0</td>\n",
       "      <td>57.1</td>\n",
       "    </tr>\n",
       "    <tr>\n",
       "      <th>12175</th>\n",
       "      <td>Urinary Bladder, invasive and in situ</td>\n",
       "      <td>Wisconsin</td>\n",
       "      <td>2019</td>\n",
       "      <td>75-79 years</td>\n",
       "      <td>Female</td>\n",
       "      <td>F</td>\n",
       "      <td>69.0</td>\n",
       "      <td>94842.0</td>\n",
       "      <td>72.8</td>\n",
       "    </tr>\n",
       "    <tr>\n",
       "      <th>12176</th>\n",
       "      <td>Urinary Bladder, invasive and in situ</td>\n",
       "      <td>Wisconsin</td>\n",
       "      <td>2019</td>\n",
       "      <td>80-84 years</td>\n",
       "      <td>Female</td>\n",
       "      <td>F</td>\n",
       "      <td>53.0</td>\n",
       "      <td>67245.0</td>\n",
       "      <td>78.8</td>\n",
       "    </tr>\n",
       "    <tr>\n",
       "      <th>12177</th>\n",
       "      <td>Urinary Bladder, invasive and in situ</td>\n",
       "      <td>Wisconsin</td>\n",
       "      <td>2019</td>\n",
       "      <td>85+ years</td>\n",
       "      <td>Female</td>\n",
       "      <td>F</td>\n",
       "      <td>69.0</td>\n",
       "      <td>82068.0</td>\n",
       "      <td>84.1</td>\n",
       "    </tr>\n",
       "  </tbody>\n",
       "</table>\n",
       "<p>24441 rows × 9 columns</p>\n",
       "</div>"
      ],
      "text/plain": [
       "                        Leading Cancer Sites     States  Year    Age Groups  \\\n",
       "0             Brain and Other Nervous System    Alabama  2018  60-64 years    \n",
       "1             Brain and Other Nervous System    Alabama  2018   65-69 years   \n",
       "2             Brain and Other Nervous System    Alabama  2018   70-74 years   \n",
       "3             Brain and Other Nervous System    Alabama  2018   75-79 years   \n",
       "4             Brain and Other Nervous System    Alabama  2018   80-84 years   \n",
       "...                                      ...        ...   ...           ...   \n",
       "12173  Urinary Bladder, invasive and in situ  Wisconsin  2019   65-69 years   \n",
       "12174  Urinary Bladder, invasive and in situ  Wisconsin  2019   70-74 years   \n",
       "12175  Urinary Bladder, invasive and in situ  Wisconsin  2019   75-79 years   \n",
       "12176  Urinary Bladder, invasive and in situ  Wisconsin  2019   80-84 years   \n",
       "12177  Urinary Bladder, invasive and in situ  Wisconsin  2019     85+ years   \n",
       "\n",
       "       Gender Gender Code  Count  Population  Crude Rate  \n",
       "0      Female           F   23.0    168342.0        13.7  \n",
       "1      Female           F   21.0    145302.0        14.5  \n",
       "2      Female           F   23.0    117686.0        19.5  \n",
       "3      Female           F   19.0     84846.0        22.4  \n",
       "4      Female           F   18.0     58233.0        30.9  \n",
       "...       ...         ...    ...         ...         ...  \n",
       "12173  Female           F   41.0    173144.0        23.7  \n",
       "12174  Female           F   76.0    133024.0        57.1  \n",
       "12175  Female           F   69.0     94842.0        72.8  \n",
       "12176  Female           F   53.0     67245.0        78.8  \n",
       "12177  Female           F   69.0     82068.0        84.1  \n",
       "\n",
       "[24441 rows x 9 columns]"
      ]
     },
     "execution_count": 62,
     "metadata": {},
     "output_type": "execute_result"
    }
   ],
   "source": [
    "df_final_1819"
   ]
  },
  {
   "cell_type": "markdown",
   "id": "59f726a7",
   "metadata": {},
   "source": [
    "## Creating some flags for further analysis."
   ]
  },
  {
   "cell_type": "code",
   "execution_count": 63,
   "id": "b1292305",
   "metadata": {},
   "outputs": [],
   "source": [
    "#State to regional categorization North-East\n",
    "df_final_1819.loc[df_final_1819['States'].isin(['New York','Connecticut','Maine','New Hampshire',\n",
    "       'New Jersey','Pennsylvania','Vermont','Massachusetts','Rhode Island']), 'Region'] = 'North-East'\n",
    "#updating mid-west\n",
    "df_final_1819.loc[df_final_1819['States'].isin(['Illinois', 'Indiana','Iowa','Kansas','Michigan', 'Minnesota','Missouri',\n",
    "                                           'Nebraska','North Dakota','Ohio','South Dakota','Wisconsin']), 'Region'] = 'Mid-West'\n",
    "#updating south\n",
    "df_final_1819.loc[df_final_1819['States'].isin(['Alabama','Arkansas','Delaware', 'District of Columbia',\n",
    "       'Florida', 'Georgia', 'Kentucky', 'Louisiana','Maryland','Mississippi','North Carolina','Tennessee',\n",
    "       'Texas','Virginia', 'West Virginia','South Carolina','Oklahoma']), 'Region'] = 'South'\n",
    "#updating west\n",
    "df_final_1819.loc[df_final_1819['States'].isin(['Alaska', 'Arizona','California','Hawaii', 'Idaho','Oregon','New Mexico', \n",
    "       'Colorado','Nevada','Washington','Wyoming','Montana', 'Utah']), 'Region'] = 'West'"
   ]
  },
  {
   "cell_type": "code",
   "execution_count": 64,
   "id": "860f498a",
   "metadata": {},
   "outputs": [
    {
     "data": {
      "text/plain": [
       "South         9314\n",
       "Mid-West      6047\n",
       "West          4725\n",
       "North-East    4355\n",
       "Name: Region, dtype: int64"
      ]
     },
     "execution_count": 64,
     "metadata": {},
     "output_type": "execute_result"
    }
   ],
   "source": [
    "df_final_1819['Region'].value_counts(dropna=False)"
   ]
  },
  {
   "cell_type": "markdown",
   "id": "592701cd",
   "metadata": {},
   "source": [
    "1-14 : Pediatric group\n",
    "15-29 :Young age group\n",
    "30-49 : Adult age group\n",
    "50-64 : Middle age group\n",
    "65+ : Elderly group"
   ]
  },
  {
   "cell_type": "code",
   "execution_count": 65,
   "id": "5c3d16e5",
   "metadata": {},
   "outputs": [],
   "source": [
    "#age group flagging\n",
    "df_final_1819.loc[df_final_1819['Age Groups'].isin(['1-4 years','5-9 years','10-14 years']), 'Age_Flag'] = 'Pediatric group'\n",
    "df_final_1819.loc[df_final_1819['Age Groups'].isin(['15-19 years','20-24 years','25-29 years']), 'Age_Flag'] = 'Young age group'\n",
    "df_final_1819.loc[df_final_1819['Age Groups'].isin(['30-34 years','35-39 years','40-44 years','45-49 years']), 'Age_Flag'] = 'Adult age group'\n",
    "df_final_1819.loc[df_final_1819['Age Groups'].isin(['50-54 years','55-59 years','60-64 years ']), 'Age_Flag'] = 'Middle age group'\n",
    "df_final_1819.loc[df_final_1819['Age Groups'].isin(['65-69 years','70-74 years','75-79 years','80-84 years','85+ years']), 'Age_Flag'] = 'Elderly group'\n"
   ]
  },
  {
   "cell_type": "code",
   "execution_count": 67,
   "id": "307cbd5d",
   "metadata": {},
   "outputs": [
    {
     "data": {
      "text/plain": [
       "Elderly group       12470\n",
       "Middle age group     7355\n",
       "Adult age group      3952\n",
       "Young age group       495\n",
       "Pediatric group       169\n",
       "Name: Age_Flag, dtype: int64"
      ]
     },
     "execution_count": 67,
     "metadata": {},
     "output_type": "execute_result"
    }
   ],
   "source": [
    "df_final_1819['Age_Flag'].value_counts(dropna=False)"
   ]
  },
  {
   "cell_type": "code",
   "execution_count": 68,
   "id": "bb3e25d3",
   "metadata": {},
   "outputs": [],
   "source": [
    "#age group numeric flagging\n",
    "\n",
    "df_final_1819.loc[df_final_1819['Age Groups'].isin(['1-4 years']),\"Age_max\"]=4\n",
    "df_final_1819.loc[df_final_1819['Age Groups'].isin(['5-9 years']),\"Age_max\"]=9\n",
    "df_final_1819.loc[df_final_1819['Age Groups'].isin(['10-14 years']),\"Age_max\"]=14\n",
    "df_final_1819.loc[df_final_1819['Age Groups'].isin(['15-19 years']),\"Age_max\"]=19\n",
    "df_final_1819.loc[df_final_1819['Age Groups'].isin(['20-24 years']),\"Age_max\"]=24\n",
    "df_final_1819.loc[df_final_1819['Age Groups'].isin(['25-29 years']),\"Age_max\"]=29\n",
    "df_final_1819.loc[df_final_1819['Age Groups'].isin(['30-34 years']),\"Age_max\"]=34\n",
    "df_final_1819.loc[df_final_1819['Age Groups'].isin(['35-39 years']),\"Age_max\"]=39\n",
    "df_final_1819.loc[df_final_1819['Age Groups'].isin(['40-44 years']),\"Age_max\"]=44\n",
    "df_final_1819.loc[df_final_1819['Age Groups'].isin(['45-49 years']),\"Age_max\"]=49\n",
    "df_final_1819.loc[df_final_1819['Age Groups'].isin(['50-54 years']),\"Age_max\"]=54\n",
    "df_final_1819.loc[df_final_1819['Age Groups'].isin(['55-59 years']),\"Age_max\"]=59\n",
    "df_final_1819.loc[df_final_1819['Age Groups'].isin(['60-64 years ']),\"Age_max\"]=64\n",
    "df_final_1819.loc[df_final_1819['Age Groups'].isin(['65-69 years']),\"Age_max\"]=69\n",
    "df_final_1819.loc[df_final_1819['Age Groups'].isin(['70-74 years']),\"Age_max\"]=74\n",
    "df_final_1819.loc[df_final_1819['Age Groups'].isin(['75-79 years']),\"Age_max\"]=79\n",
    "df_final_1819.loc[df_final_1819['Age Groups'].isin(['80-84 years']),\"Age_max\"]=84\n",
    "df_final_1819.loc[df_final_1819['Age Groups'].isin(['85+ years']),\"Age_max\"]=89"
   ]
  },
  {
   "cell_type": "code",
   "execution_count": 69,
   "id": "c26670e3",
   "metadata": {},
   "outputs": [
    {
     "data": {
      "text/plain": [
       "69.0    2818\n",
       "64.0    2765\n",
       "74.0    2759\n",
       "79.0    2574\n",
       "59.0    2553\n",
       "84.0    2209\n",
       "89.0    2110\n",
       "54.0    2037\n",
       "49.0    1552\n",
       "44.0    1085\n",
       "39.0     793\n",
       "34.0     522\n",
       "29.0     299\n",
       "24.0     130\n",
       "4.0       79\n",
       "19.0      66\n",
       "14.0      46\n",
       "9.0       44\n",
       "Name: Age_max, dtype: int64"
      ]
     },
     "execution_count": 69,
     "metadata": {},
     "output_type": "execute_result"
    }
   ],
   "source": [
    "df_final_1819['Age_max'].value_counts(dropna=False)"
   ]
  },
  {
   "cell_type": "code",
   "execution_count": 71,
   "id": "1780748d",
   "metadata": {},
   "outputs": [
    {
     "data": {
      "text/html": [
       "<div>\n",
       "<style scoped>\n",
       "    .dataframe tbody tr th:only-of-type {\n",
       "        vertical-align: middle;\n",
       "    }\n",
       "\n",
       "    .dataframe tbody tr th {\n",
       "        vertical-align: top;\n",
       "    }\n",
       "\n",
       "    .dataframe thead th {\n",
       "        text-align: right;\n",
       "    }\n",
       "</style>\n",
       "<table border=\"1\" class=\"dataframe\">\n",
       "  <thead>\n",
       "    <tr style=\"text-align: right;\">\n",
       "      <th></th>\n",
       "      <th>Leading Cancer Sites</th>\n",
       "      <th>States</th>\n",
       "      <th>Year</th>\n",
       "      <th>Age Groups</th>\n",
       "      <th>Gender</th>\n",
       "      <th>Gender Code</th>\n",
       "      <th>Count</th>\n",
       "      <th>Population</th>\n",
       "      <th>Crude Rate</th>\n",
       "      <th>Region</th>\n",
       "      <th>Age_Flag</th>\n",
       "      <th>Age_max</th>\n",
       "    </tr>\n",
       "  </thead>\n",
       "  <tbody>\n",
       "    <tr>\n",
       "      <th>0</th>\n",
       "      <td>Brain and Other Nervous System</td>\n",
       "      <td>Alabama</td>\n",
       "      <td>2018</td>\n",
       "      <td>60-64 years</td>\n",
       "      <td>Female</td>\n",
       "      <td>F</td>\n",
       "      <td>23.0</td>\n",
       "      <td>168342.0</td>\n",
       "      <td>13.7</td>\n",
       "      <td>South</td>\n",
       "      <td>Middle age group</td>\n",
       "      <td>64.0</td>\n",
       "    </tr>\n",
       "    <tr>\n",
       "      <th>1</th>\n",
       "      <td>Brain and Other Nervous System</td>\n",
       "      <td>Alabama</td>\n",
       "      <td>2018</td>\n",
       "      <td>65-69 years</td>\n",
       "      <td>Female</td>\n",
       "      <td>F</td>\n",
       "      <td>21.0</td>\n",
       "      <td>145302.0</td>\n",
       "      <td>14.5</td>\n",
       "      <td>South</td>\n",
       "      <td>Elderly group</td>\n",
       "      <td>69.0</td>\n",
       "    </tr>\n",
       "    <tr>\n",
       "      <th>2</th>\n",
       "      <td>Brain and Other Nervous System</td>\n",
       "      <td>Alabama</td>\n",
       "      <td>2018</td>\n",
       "      <td>70-74 years</td>\n",
       "      <td>Female</td>\n",
       "      <td>F</td>\n",
       "      <td>23.0</td>\n",
       "      <td>117686.0</td>\n",
       "      <td>19.5</td>\n",
       "      <td>South</td>\n",
       "      <td>Elderly group</td>\n",
       "      <td>74.0</td>\n",
       "    </tr>\n",
       "    <tr>\n",
       "      <th>3</th>\n",
       "      <td>Brain and Other Nervous System</td>\n",
       "      <td>Alabama</td>\n",
       "      <td>2018</td>\n",
       "      <td>75-79 years</td>\n",
       "      <td>Female</td>\n",
       "      <td>F</td>\n",
       "      <td>19.0</td>\n",
       "      <td>84846.0</td>\n",
       "      <td>22.4</td>\n",
       "      <td>South</td>\n",
       "      <td>Elderly group</td>\n",
       "      <td>79.0</td>\n",
       "    </tr>\n",
       "    <tr>\n",
       "      <th>4</th>\n",
       "      <td>Brain and Other Nervous System</td>\n",
       "      <td>Alabama</td>\n",
       "      <td>2018</td>\n",
       "      <td>80-84 years</td>\n",
       "      <td>Female</td>\n",
       "      <td>F</td>\n",
       "      <td>18.0</td>\n",
       "      <td>58233.0</td>\n",
       "      <td>30.9</td>\n",
       "      <td>South</td>\n",
       "      <td>Elderly group</td>\n",
       "      <td>84.0</td>\n",
       "    </tr>\n",
       "    <tr>\n",
       "      <th>5</th>\n",
       "      <td>Brain and Other Nervous System</td>\n",
       "      <td>Arizona</td>\n",
       "      <td>2018</td>\n",
       "      <td>55-59 years</td>\n",
       "      <td>Female</td>\n",
       "      <td>F</td>\n",
       "      <td>21.0</td>\n",
       "      <td>227767.0</td>\n",
       "      <td>9.2</td>\n",
       "      <td>West</td>\n",
       "      <td>Middle age group</td>\n",
       "      <td>59.0</td>\n",
       "    </tr>\n",
       "    <tr>\n",
       "      <th>6</th>\n",
       "      <td>Brain and Other Nervous System</td>\n",
       "      <td>Arizona</td>\n",
       "      <td>2018</td>\n",
       "      <td>60-64 years</td>\n",
       "      <td>Female</td>\n",
       "      <td>F</td>\n",
       "      <td>23.0</td>\n",
       "      <td>224349.0</td>\n",
       "      <td>10.3</td>\n",
       "      <td>West</td>\n",
       "      <td>Middle age group</td>\n",
       "      <td>64.0</td>\n",
       "    </tr>\n",
       "    <tr>\n",
       "      <th>7</th>\n",
       "      <td>Brain and Other Nervous System</td>\n",
       "      <td>Arizona</td>\n",
       "      <td>2018</td>\n",
       "      <td>65-69 years</td>\n",
       "      <td>Female</td>\n",
       "      <td>F</td>\n",
       "      <td>22.0</td>\n",
       "      <td>208318.0</td>\n",
       "      <td>10.6</td>\n",
       "      <td>West</td>\n",
       "      <td>Elderly group</td>\n",
       "      <td>69.0</td>\n",
       "    </tr>\n",
       "    <tr>\n",
       "      <th>8</th>\n",
       "      <td>Brain and Other Nervous System</td>\n",
       "      <td>Arizona</td>\n",
       "      <td>2018</td>\n",
       "      <td>70-74 years</td>\n",
       "      <td>Female</td>\n",
       "      <td>F</td>\n",
       "      <td>20.0</td>\n",
       "      <td>178478.0</td>\n",
       "      <td>11.2</td>\n",
       "      <td>West</td>\n",
       "      <td>Elderly group</td>\n",
       "      <td>74.0</td>\n",
       "    </tr>\n",
       "    <tr>\n",
       "      <th>9</th>\n",
       "      <td>Brain and Other Nervous System</td>\n",
       "      <td>Arizona</td>\n",
       "      <td>2018</td>\n",
       "      <td>75-79 years</td>\n",
       "      <td>Female</td>\n",
       "      <td>F</td>\n",
       "      <td>17.0</td>\n",
       "      <td>127735.0</td>\n",
       "      <td>13.3</td>\n",
       "      <td>West</td>\n",
       "      <td>Elderly group</td>\n",
       "      <td>79.0</td>\n",
       "    </tr>\n",
       "  </tbody>\n",
       "</table>\n",
       "</div>"
      ],
      "text/plain": [
       "             Leading Cancer Sites   States  Year    Age Groups  Gender  \\\n",
       "0  Brain and Other Nervous System  Alabama  2018  60-64 years   Female   \n",
       "1  Brain and Other Nervous System  Alabama  2018   65-69 years  Female   \n",
       "2  Brain and Other Nervous System  Alabama  2018   70-74 years  Female   \n",
       "3  Brain and Other Nervous System  Alabama  2018   75-79 years  Female   \n",
       "4  Brain and Other Nervous System  Alabama  2018   80-84 years  Female   \n",
       "5  Brain and Other Nervous System  Arizona  2018   55-59 years  Female   \n",
       "6  Brain and Other Nervous System  Arizona  2018  60-64 years   Female   \n",
       "7  Brain and Other Nervous System  Arizona  2018   65-69 years  Female   \n",
       "8  Brain and Other Nervous System  Arizona  2018   70-74 years  Female   \n",
       "9  Brain and Other Nervous System  Arizona  2018   75-79 years  Female   \n",
       "\n",
       "  Gender Code  Count  Population  Crude Rate Region          Age_Flag  Age_max  \n",
       "0           F   23.0    168342.0        13.7  South  Middle age group     64.0  \n",
       "1           F   21.0    145302.0        14.5  South     Elderly group     69.0  \n",
       "2           F   23.0    117686.0        19.5  South     Elderly group     74.0  \n",
       "3           F   19.0     84846.0        22.4  South     Elderly group     79.0  \n",
       "4           F   18.0     58233.0        30.9  South     Elderly group     84.0  \n",
       "5           F   21.0    227767.0         9.2   West  Middle age group     59.0  \n",
       "6           F   23.0    224349.0        10.3   West  Middle age group     64.0  \n",
       "7           F   22.0    208318.0        10.6   West     Elderly group     69.0  \n",
       "8           F   20.0    178478.0        11.2   West     Elderly group     74.0  \n",
       "9           F   17.0    127735.0        13.3   West     Elderly group     79.0  "
      ]
     },
     "execution_count": 71,
     "metadata": {},
     "output_type": "execute_result"
    }
   ],
   "source": [
    "df_final_1819.head(10)"
   ]
  },
  {
   "cell_type": "markdown",
   "id": "828ae242",
   "metadata": {},
   "source": [
    "## Exporting data set to prepared data"
   ]
  },
  {
   "cell_type": "code",
   "execution_count": 72,
   "id": "0314fc04",
   "metadata": {},
   "outputs": [],
   "source": [
    "df_final_1819.to_csv(os.path.join(pathk,'Prepared Data','2018_19_cancer_incidents.csv'))"
   ]
  },
  {
   "cell_type": "code",
   "execution_count": null,
   "id": "aa4c060b",
   "metadata": {},
   "outputs": [],
   "source": []
  }
 ],
 "metadata": {
  "kernelspec": {
   "display_name": "Python 3 (ipykernel)",
   "language": "python",
   "name": "python3"
  },
  "language_info": {
   "codemirror_mode": {
    "name": "ipython",
    "version": 3
   },
   "file_extension": ".py",
   "mimetype": "text/x-python",
   "name": "python",
   "nbconvert_exporter": "python",
   "pygments_lexer": "ipython3",
   "version": "3.9.13"
  }
 },
 "nbformat": 4,
 "nbformat_minor": 5
}
