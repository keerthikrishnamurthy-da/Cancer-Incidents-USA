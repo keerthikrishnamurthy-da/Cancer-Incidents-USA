{
 "cells": [
  {
   "cell_type": "markdown",
   "id": "889c64f2",
   "metadata": {},
   "source": [
    "## Importing libraries for regression analysis"
   ]
  },
  {
   "cell_type": "code",
   "execution_count": 1,
   "id": "a85dd6f1",
   "metadata": {},
   "outputs": [],
   "source": [
    "import pandas as pd\n",
    "import numpy as np\n",
    "import os\n",
    "import seaborn as sns\n",
    "import matplotlib\n",
    "import matplotlib.pyplot as plt\n",
    "import sklearn\n",
    "from sklearn.model_selection import train_test_split\n",
    "from sklearn.linear_model import LinearRegression\n",
    "from sklearn.metrics import mean_squared_error,r2_score\n"
   ]
  },
  {
   "cell_type": "code",
   "execution_count": 2,
   "id": "b175b6cd",
   "metadata": {},
   "outputs": [],
   "source": [
    "pathk=r'/Users/keerthiputti/Downloads/Achievement 6/cancer incidents/02 Data/Prepared Data'"
   ]
  },
  {
   "cell_type": "code",
   "execution_count": 3,
   "id": "a4c57d06",
   "metadata": {},
   "outputs": [
    {
     "data": {
      "text/plain": [
       "'/Users/keerthiputti/Downloads/Achievement 6/cancer incidents/02 Data/Prepared Data'"
      ]
     },
     "execution_count": 3,
     "metadata": {},
     "output_type": "execute_result"
    }
   ],
   "source": [
    "pathk"
   ]
  },
  {
   "cell_type": "code",
   "execution_count": 4,
   "id": "ea0013ea",
   "metadata": {},
   "outputs": [],
   "source": [
    "df_data=pd.read_csv(os.path.join(pathk,'2018_19_cancer_incidents.csv'),index_col=False)"
   ]
  },
  {
   "cell_type": "code",
   "execution_count": 5,
   "id": "d78a5f0b",
   "metadata": {},
   "outputs": [
    {
     "data": {
      "text/html": [
       "<div>\n",
       "<style scoped>\n",
       "    .dataframe tbody tr th:only-of-type {\n",
       "        vertical-align: middle;\n",
       "    }\n",
       "\n",
       "    .dataframe tbody tr th {\n",
       "        vertical-align: top;\n",
       "    }\n",
       "\n",
       "    .dataframe thead th {\n",
       "        text-align: right;\n",
       "    }\n",
       "</style>\n",
       "<table border=\"1\" class=\"dataframe\">\n",
       "  <thead>\n",
       "    <tr style=\"text-align: right;\">\n",
       "      <th></th>\n",
       "      <th>Leading Cancer Sites</th>\n",
       "      <th>States</th>\n",
       "      <th>Year</th>\n",
       "      <th>Age Groups</th>\n",
       "      <th>Gender</th>\n",
       "      <th>Gender Code</th>\n",
       "      <th>Count</th>\n",
       "      <th>Population</th>\n",
       "      <th>Crude Rate</th>\n",
       "      <th>Region</th>\n",
       "      <th>Age_Flag</th>\n",
       "      <th>Age_max</th>\n",
       "    </tr>\n",
       "  </thead>\n",
       "  <tbody>\n",
       "    <tr>\n",
       "      <th>0</th>\n",
       "      <td>Brain and Other Nervous System</td>\n",
       "      <td>Alabama</td>\n",
       "      <td>2018</td>\n",
       "      <td>60-64 years</td>\n",
       "      <td>Female</td>\n",
       "      <td>F</td>\n",
       "      <td>23.0</td>\n",
       "      <td>168342.0</td>\n",
       "      <td>13.7</td>\n",
       "      <td>South</td>\n",
       "      <td>Middle age group</td>\n",
       "      <td>64.0</td>\n",
       "    </tr>\n",
       "    <tr>\n",
       "      <th>1</th>\n",
       "      <td>Brain and Other Nervous System</td>\n",
       "      <td>Alabama</td>\n",
       "      <td>2018</td>\n",
       "      <td>65-69 years</td>\n",
       "      <td>Female</td>\n",
       "      <td>F</td>\n",
       "      <td>21.0</td>\n",
       "      <td>145302.0</td>\n",
       "      <td>14.5</td>\n",
       "      <td>South</td>\n",
       "      <td>Elderly group</td>\n",
       "      <td>69.0</td>\n",
       "    </tr>\n",
       "    <tr>\n",
       "      <th>2</th>\n",
       "      <td>Brain and Other Nervous System</td>\n",
       "      <td>Alabama</td>\n",
       "      <td>2018</td>\n",
       "      <td>70-74 years</td>\n",
       "      <td>Female</td>\n",
       "      <td>F</td>\n",
       "      <td>23.0</td>\n",
       "      <td>117686.0</td>\n",
       "      <td>19.5</td>\n",
       "      <td>South</td>\n",
       "      <td>Elderly group</td>\n",
       "      <td>74.0</td>\n",
       "    </tr>\n",
       "    <tr>\n",
       "      <th>3</th>\n",
       "      <td>Brain and Other Nervous System</td>\n",
       "      <td>Alabama</td>\n",
       "      <td>2018</td>\n",
       "      <td>75-79 years</td>\n",
       "      <td>Female</td>\n",
       "      <td>F</td>\n",
       "      <td>19.0</td>\n",
       "      <td>84846.0</td>\n",
       "      <td>22.4</td>\n",
       "      <td>South</td>\n",
       "      <td>Elderly group</td>\n",
       "      <td>79.0</td>\n",
       "    </tr>\n",
       "    <tr>\n",
       "      <th>4</th>\n",
       "      <td>Brain and Other Nervous System</td>\n",
       "      <td>Alabama</td>\n",
       "      <td>2018</td>\n",
       "      <td>80-84 years</td>\n",
       "      <td>Female</td>\n",
       "      <td>F</td>\n",
       "      <td>18.0</td>\n",
       "      <td>58233.0</td>\n",
       "      <td>30.9</td>\n",
       "      <td>South</td>\n",
       "      <td>Elderly group</td>\n",
       "      <td>84.0</td>\n",
       "    </tr>\n",
       "    <tr>\n",
       "      <th>...</th>\n",
       "      <td>...</td>\n",
       "      <td>...</td>\n",
       "      <td>...</td>\n",
       "      <td>...</td>\n",
       "      <td>...</td>\n",
       "      <td>...</td>\n",
       "      <td>...</td>\n",
       "      <td>...</td>\n",
       "      <td>...</td>\n",
       "      <td>...</td>\n",
       "      <td>...</td>\n",
       "      <td>...</td>\n",
       "    </tr>\n",
       "    <tr>\n",
       "      <th>24436</th>\n",
       "      <td>Urinary Bladder, invasive and in situ</td>\n",
       "      <td>Wisconsin</td>\n",
       "      <td>2019</td>\n",
       "      <td>65-69 years</td>\n",
       "      <td>Female</td>\n",
       "      <td>F</td>\n",
       "      <td>41.0</td>\n",
       "      <td>173144.0</td>\n",
       "      <td>23.7</td>\n",
       "      <td>Mid-West</td>\n",
       "      <td>Elderly group</td>\n",
       "      <td>69.0</td>\n",
       "    </tr>\n",
       "    <tr>\n",
       "      <th>24437</th>\n",
       "      <td>Urinary Bladder, invasive and in situ</td>\n",
       "      <td>Wisconsin</td>\n",
       "      <td>2019</td>\n",
       "      <td>70-74 years</td>\n",
       "      <td>Female</td>\n",
       "      <td>F</td>\n",
       "      <td>76.0</td>\n",
       "      <td>133024.0</td>\n",
       "      <td>57.1</td>\n",
       "      <td>Mid-West</td>\n",
       "      <td>Elderly group</td>\n",
       "      <td>74.0</td>\n",
       "    </tr>\n",
       "    <tr>\n",
       "      <th>24438</th>\n",
       "      <td>Urinary Bladder, invasive and in situ</td>\n",
       "      <td>Wisconsin</td>\n",
       "      <td>2019</td>\n",
       "      <td>75-79 years</td>\n",
       "      <td>Female</td>\n",
       "      <td>F</td>\n",
       "      <td>69.0</td>\n",
       "      <td>94842.0</td>\n",
       "      <td>72.8</td>\n",
       "      <td>Mid-West</td>\n",
       "      <td>Elderly group</td>\n",
       "      <td>79.0</td>\n",
       "    </tr>\n",
       "    <tr>\n",
       "      <th>24439</th>\n",
       "      <td>Urinary Bladder, invasive and in situ</td>\n",
       "      <td>Wisconsin</td>\n",
       "      <td>2019</td>\n",
       "      <td>80-84 years</td>\n",
       "      <td>Female</td>\n",
       "      <td>F</td>\n",
       "      <td>53.0</td>\n",
       "      <td>67245.0</td>\n",
       "      <td>78.8</td>\n",
       "      <td>Mid-West</td>\n",
       "      <td>Elderly group</td>\n",
       "      <td>84.0</td>\n",
       "    </tr>\n",
       "    <tr>\n",
       "      <th>24440</th>\n",
       "      <td>Urinary Bladder, invasive and in situ</td>\n",
       "      <td>Wisconsin</td>\n",
       "      <td>2019</td>\n",
       "      <td>85+ years</td>\n",
       "      <td>Female</td>\n",
       "      <td>F</td>\n",
       "      <td>69.0</td>\n",
       "      <td>82068.0</td>\n",
       "      <td>84.1</td>\n",
       "      <td>Mid-West</td>\n",
       "      <td>Elderly group</td>\n",
       "      <td>89.0</td>\n",
       "    </tr>\n",
       "  </tbody>\n",
       "</table>\n",
       "<p>24441 rows × 12 columns</p>\n",
       "</div>"
      ],
      "text/plain": [
       "                        Leading Cancer Sites     States  Year    Age Groups  \\\n",
       "0             Brain and Other Nervous System    Alabama  2018  60-64 years    \n",
       "1             Brain and Other Nervous System    Alabama  2018   65-69 years   \n",
       "2             Brain and Other Nervous System    Alabama  2018   70-74 years   \n",
       "3             Brain and Other Nervous System    Alabama  2018   75-79 years   \n",
       "4             Brain and Other Nervous System    Alabama  2018   80-84 years   \n",
       "...                                      ...        ...   ...           ...   \n",
       "24436  Urinary Bladder, invasive and in situ  Wisconsin  2019   65-69 years   \n",
       "24437  Urinary Bladder, invasive and in situ  Wisconsin  2019   70-74 years   \n",
       "24438  Urinary Bladder, invasive and in situ  Wisconsin  2019   75-79 years   \n",
       "24439  Urinary Bladder, invasive and in situ  Wisconsin  2019   80-84 years   \n",
       "24440  Urinary Bladder, invasive and in situ  Wisconsin  2019     85+ years   \n",
       "\n",
       "       Gender Gender Code  Count  Population  Crude Rate    Region  \\\n",
       "0      Female           F   23.0    168342.0        13.7     South   \n",
       "1      Female           F   21.0    145302.0        14.5     South   \n",
       "2      Female           F   23.0    117686.0        19.5     South   \n",
       "3      Female           F   19.0     84846.0        22.4     South   \n",
       "4      Female           F   18.0     58233.0        30.9     South   \n",
       "...       ...         ...    ...         ...         ...       ...   \n",
       "24436  Female           F   41.0    173144.0        23.7  Mid-West   \n",
       "24437  Female           F   76.0    133024.0        57.1  Mid-West   \n",
       "24438  Female           F   69.0     94842.0        72.8  Mid-West   \n",
       "24439  Female           F   53.0     67245.0        78.8  Mid-West   \n",
       "24440  Female           F   69.0     82068.0        84.1  Mid-West   \n",
       "\n",
       "               Age_Flag  Age_max  \n",
       "0      Middle age group     64.0  \n",
       "1         Elderly group     69.0  \n",
       "2         Elderly group     74.0  \n",
       "3         Elderly group     79.0  \n",
       "4         Elderly group     84.0  \n",
       "...                 ...      ...  \n",
       "24436     Elderly group     69.0  \n",
       "24437     Elderly group     74.0  \n",
       "24438     Elderly group     79.0  \n",
       "24439     Elderly group     84.0  \n",
       "24440     Elderly group     89.0  \n",
       "\n",
       "[24441 rows x 12 columns]"
      ]
     },
     "execution_count": 5,
     "metadata": {},
     "output_type": "execute_result"
    }
   ],
   "source": [
    "df_data"
   ]
  },
  {
   "cell_type": "markdown",
   "id": "666ad273",
   "metadata": {},
   "source": [
    "## The data is already cleaned and ready to go. Hence question 1 through 3 is done."
   ]
  },
  {
   "cell_type": "markdown",
   "id": "7f771852",
   "metadata": {},
   "source": [
    "## 4\n",
    "\n",
    "Explore your data visually (e.g., by way of a scatterplot), looking for variables whose relationship you’d like to test."
   ]
  },
  {
   "cell_type": "markdown",
   "id": "61aa6bf1",
   "metadata": {},
   "source": [
    "# Plotting my age_max with counts"
   ]
  },
  {
   "cell_type": "code",
   "execution_count": 6,
   "id": "0a377802",
   "metadata": {},
   "outputs": [
    {
     "data": {
      "text/html": [
       "<div>\n",
       "<style scoped>\n",
       "    .dataframe tbody tr th:only-of-type {\n",
       "        vertical-align: middle;\n",
       "    }\n",
       "\n",
       "    .dataframe tbody tr th {\n",
       "        vertical-align: top;\n",
       "    }\n",
       "\n",
       "    .dataframe thead th {\n",
       "        text-align: right;\n",
       "    }\n",
       "</style>\n",
       "<table border=\"1\" class=\"dataframe\">\n",
       "  <thead>\n",
       "    <tr style=\"text-align: right;\">\n",
       "      <th></th>\n",
       "      <th>Year</th>\n",
       "      <th>Count</th>\n",
       "      <th>Population</th>\n",
       "      <th>Crude Rate</th>\n",
       "      <th>Age_max</th>\n",
       "    </tr>\n",
       "  </thead>\n",
       "  <tbody>\n",
       "    <tr>\n",
       "      <th>Year</th>\n",
       "      <td>1.000000</td>\n",
       "      <td>0.002694</td>\n",
       "      <td>0.004080</td>\n",
       "      <td>-0.004010</td>\n",
       "      <td>0.003479</td>\n",
       "    </tr>\n",
       "    <tr>\n",
       "      <th>Count</th>\n",
       "      <td>0.002694</td>\n",
       "      <td>1.000000</td>\n",
       "      <td>0.207206</td>\n",
       "      <td>0.509539</td>\n",
       "      <td>0.089438</td>\n",
       "    </tr>\n",
       "    <tr>\n",
       "      <th>Population</th>\n",
       "      <td>0.004080</td>\n",
       "      <td>0.207206</td>\n",
       "      <td>1.000000</td>\n",
       "      <td>-0.271757</td>\n",
       "      <td>-0.460259</td>\n",
       "    </tr>\n",
       "    <tr>\n",
       "      <th>Crude Rate</th>\n",
       "      <td>-0.004010</td>\n",
       "      <td>0.509539</td>\n",
       "      <td>-0.271757</td>\n",
       "      <td>1.000000</td>\n",
       "      <td>0.366556</td>\n",
       "    </tr>\n",
       "    <tr>\n",
       "      <th>Age_max</th>\n",
       "      <td>0.003479</td>\n",
       "      <td>0.089438</td>\n",
       "      <td>-0.460259</td>\n",
       "      <td>0.366556</td>\n",
       "      <td>1.000000</td>\n",
       "    </tr>\n",
       "  </tbody>\n",
       "</table>\n",
       "</div>"
      ],
      "text/plain": [
       "                Year     Count  Population  Crude Rate   Age_max\n",
       "Year        1.000000  0.002694    0.004080   -0.004010  0.003479\n",
       "Count       0.002694  1.000000    0.207206    0.509539  0.089438\n",
       "Population  0.004080  0.207206    1.000000   -0.271757 -0.460259\n",
       "Crude Rate -0.004010  0.509539   -0.271757    1.000000  0.366556\n",
       "Age_max     0.003479  0.089438   -0.460259    0.366556  1.000000"
      ]
     },
     "execution_count": 6,
     "metadata": {},
     "output_type": "execute_result"
    }
   ],
   "source": [
    "df_data.corr()"
   ]
  },
  {
   "cell_type": "code",
   "execution_count": 9,
   "id": "dadef453",
   "metadata": {},
   "outputs": [
    {
     "data": {
      "image/png": "[encoded data removed]",
      "text/plain": [
       "<Figure size 640x480 with 1 Axes>"
      ]
     },
     "metadata": {},
     "output_type": "display_data"
    }
   ],
   "source": [
    "# Create a scatterplot using matplotlib for another look at how the chosen variables plot against each other.\n",
    "\n",
    "df_data.plot(x = 'Count', y='Crude Rate',style='o') # The style option creates a scatterplot; without it, we only have lines.\n",
    "plt.title('Cancer indents and Crude rate')  \n",
    "plt.xlabel('Incidence count')  \n",
    "plt.ylabel('Crude rate for 100,000')  \n",
    "plt.show()"
   ]
  },
  {
   "cell_type": "code",
   "execution_count": 11,
   "id": "032e2f81",
   "metadata": {},
   "outputs": [
    {
     "data": {
      "image/png": "[encoded data removed]",
      "text/plain": [
       "<Figure size 640x480 with 1 Axes>"
      ]
     },
     "metadata": {},
     "output_type": "display_data"
    }
   ],
   "source": [
    "# Create a scatterplot using matplotlib for another look at how the chosen variables plot against each other.\n",
    "\n",
    "df_data.plot(x = 'Age_max', y='Crude Rate',style='o') # The style option creates a scatterplot; without it, we only have lines.\n",
    "plt.title('Age and incident rate')  \n",
    "plt.xlabel('Age(max of the group)')  \n",
    "plt.ylabel('Crude rate for 100,000')  \n",
    "plt.show()"
   ]
  },
  {
   "cell_type": "markdown",
   "id": "5932cf1a",
   "metadata": {},
   "source": [
    "## 5 \n",
    "State your hypothesis in a markdown cell within your Jupyter notebook."
   ]
  },
  {
   "cell_type": "markdown",
   "id": "3ce592df",
   "metadata": {},
   "source": [
    "## My hypothesis is Crude rate increases with count"
   ]
  },
  {
   "cell_type": "markdown",
   "id": "ab778bcf",
   "metadata": {},
   "source": [
    "## 6\n",
    "Reshape the variables into NumPy arrays, with X being the independent variable and y being the dependent variable."
   ]
  },
  {
   "cell_type": "code",
   "execution_count": 12,
   "id": "0356d886",
   "metadata": {},
   "outputs": [],
   "source": [
    "# Reshape the variables into NumPy arrays and put them into separate objects.\n",
    "\n",
    "X = df_data['Age_max'].values.reshape(-1,1)\n",
    "y = df_data['Crude Rate'].values.reshape(-1,1)"
   ]
  },
  {
   "cell_type": "code",
   "execution_count": 13,
   "id": "54d932b6",
   "metadata": {},
   "outputs": [
    {
     "data": {
      "text/plain": [
       "array([[64.],\n",
       "       [69.],\n",
       "       [74.],\n",
       "       ...,\n",
       "       [79.],\n",
       "       [84.],\n",
       "       [89.]])"
      ]
     },
     "execution_count": 13,
     "metadata": {},
     "output_type": "execute_result"
    }
   ],
   "source": [
    "X"
   ]
  },
  {
   "cell_type": "code",
   "execution_count": 14,
   "id": "036488c1",
   "metadata": {},
   "outputs": [
    {
     "data": {
      "text/plain": [
       "array([[13.7],\n",
       "       [14.5],\n",
       "       [19.5],\n",
       "       ...,\n",
       "       [72.8],\n",
       "       [78.8],\n",
       "       [84.1]])"
      ]
     },
     "execution_count": 14,
     "metadata": {},
     "output_type": "execute_result"
    }
   ],
   "source": [
    "y"
   ]
  },
  {
   "cell_type": "markdown",
   "id": "a29c8cc5",
   "metadata": {},
   "source": [
    "## 7\n",
    "Split the data into two sets: a training set and a test set."
   ]
  },
  {
   "cell_type": "code",
   "execution_count": 15,
   "id": "d0f917d5",
   "metadata": {},
   "outputs": [],
   "source": [
    "# Split data into a training set and a test set.\n",
    "\n",
    "X_train, X_test, y_train, y_test = train_test_split(X, y, test_size=0.3, random_state=0)"
   ]
  },
  {
   "cell_type": "markdown",
   "id": "8b8882db",
   "metadata": {},
   "source": [
    "## 8\n",
    "Run a linear regression on the data.\n",
    "First, fit the model you created to the training set.\n",
    "Then, create a prediction for y on the test set."
   ]
  },
  {
   "cell_type": "code",
   "execution_count": 16,
   "id": "ec71cc12",
   "metadata": {},
   "outputs": [],
   "source": [
    "# Create a regression object.\n",
    "\n",
    "regression = LinearRegression() "
   ]
  },
  {
   "cell_type": "code",
   "execution_count": 17,
   "id": "7a2909b6",
   "metadata": {},
   "outputs": [
    {
     "data": {
      "text/plain": [
       "LinearRegression()"
      ]
     },
     "execution_count": 17,
     "metadata": {},
     "output_type": "execute_result"
    }
   ],
   "source": [
    "# Fit the regression object onto the training set.\n",
    "\n",
    "regression.fit(X_train, y_train)"
   ]
  },
  {
   "cell_type": "code",
   "execution_count": 18,
   "id": "3fdb82df",
   "metadata": {},
   "outputs": [],
   "source": [
    "# Predict the values of y using X.\n",
    "\n",
    "y_predicted = regression.predict(X_test)"
   ]
  },
  {
   "cell_type": "markdown",
   "id": "247e4e00",
   "metadata": {},
   "source": [
    "## 9\n",
    "Create a plot that shows the regression line on the test set.\n"
   ]
  },
  {
   "cell_type": "code",
   "execution_count": 19,
   "id": "8a7cb92e",
   "metadata": {},
   "outputs": [
    {
     "data": {
      "image/png": "[encoded data removed]",
      "text/plain": [
       "<Figure size 640x480 with 1 Axes>"
      ]
     },
     "metadata": {},
     "output_type": "display_data"
    }
   ],
   "source": [
    "# Create a plot that shows the regression line from the model on the test set.\n",
    "\n",
    "plot_test = plt\n",
    "plot_test.scatter(X_test, y_test, color='gray', s = 15)\n",
    "plot_test.plot(X_test, y_predicted, color='red', linewidth =3)\n",
    "plot_test.title('Age and Crude rate (Test set)')\n",
    "plot_test.xlabel('Age(max from age group)')\n",
    "plot_test.ylabel('Crude Rate/100000')\n",
    "plot_test.show()"
   ]
  },
  {
   "cell_type": "markdown",
   "id": "244b7b34",
   "metadata": {},
   "source": [
    "# 10\n",
    "Write your own interpretation of how well the line appears to fit the data in a markdown cell."
   ]
  },
  {
   "cell_type": "markdown",
   "id": "4a2a3584",
   "metadata": {},
   "source": [
    " My interpretation is the model fits almost good. but this is not the best fit as the slope is more slant than expected"
   ]
  },
  {
   "cell_type": "markdown",
   "id": "5f7e3e0a",
   "metadata": {},
   "source": [
    "## 11\n",
    "Check the model performance statistics—MSE and R2.\n"
   ]
  },
  {
   "cell_type": "code",
   "execution_count": 20,
   "id": "3a4c3b86",
   "metadata": {},
   "outputs": [],
   "source": [
    "# Create objects that contain the model summary statistics.\n",
    "\n",
    "rmse = mean_squared_error(y_test, y_predicted) # This is the mean squared error\n",
    "r2 = r2_score(y_test, y_predicted) # This is the R2 score. "
   ]
  },
  {
   "cell_type": "code",
   "execution_count": 21,
   "id": "1008cc22",
   "metadata": {},
   "outputs": [
    {
     "name": "stdout",
     "output_type": "stream",
     "text": [
      "Slope: [[2.80311367]]\n",
      "Mean squared error:  14063.624701003253\n",
      "R2 score:  0.1343217825415527\n"
     ]
    }
   ],
   "source": [
    "# Print the model summary statistics. This is where you evaluate the performance of the model.\n",
    "\n",
    "print('Slope:' ,regression.coef_)\n",
    "print('Mean squared error: ', rmse)\n",
    "print('R2 score: ', r2)"
   ]
  },
  {
   "cell_type": "markdown",
   "id": "c5f00478",
   "metadata": {},
   "source": [
    "## 12\n",
    "Compare the predicted y values with the actual y values in a dataframe.\n"
   ]
  },
  {
   "cell_type": "code",
   "execution_count": 22,
   "id": "50203337",
   "metadata": {},
   "outputs": [
    {
     "data": {
      "text/html": [
       "<div>\n",
       "<style scoped>\n",
       "    .dataframe tbody tr th:only-of-type {\n",
       "        vertical-align: middle;\n",
       "    }\n",
       "\n",
       "    .dataframe tbody tr th {\n",
       "        vertical-align: top;\n",
       "    }\n",
       "\n",
       "    .dataframe thead th {\n",
       "        text-align: right;\n",
       "    }\n",
       "</style>\n",
       "<table border=\"1\" class=\"dataframe\">\n",
       "  <thead>\n",
       "    <tr style=\"text-align: right;\">\n",
       "      <th></th>\n",
       "      <th>Actual</th>\n",
       "      <th>Predicted</th>\n",
       "    </tr>\n",
       "  </thead>\n",
       "  <tbody>\n",
       "    <tr>\n",
       "      <th>0</th>\n",
       "      <td>642.3</td>\n",
       "      <td>139.870168</td>\n",
       "    </tr>\n",
       "    <tr>\n",
       "      <th>1</th>\n",
       "      <td>57.2</td>\n",
       "      <td>55.776758</td>\n",
       "    </tr>\n",
       "    <tr>\n",
       "      <th>2</th>\n",
       "      <td>379.5</td>\n",
       "      <td>83.807894</td>\n",
       "    </tr>\n",
       "    <tr>\n",
       "      <th>3</th>\n",
       "      <td>240.0</td>\n",
       "      <td>153.885736</td>\n",
       "    </tr>\n",
       "    <tr>\n",
       "      <th>4</th>\n",
       "      <td>159.4</td>\n",
       "      <td>55.776758</td>\n",
       "    </tr>\n",
       "    <tr>\n",
       "      <th>5</th>\n",
       "      <td>51.5</td>\n",
       "      <td>97.823463</td>\n",
       "    </tr>\n",
       "    <tr>\n",
       "      <th>6</th>\n",
       "      <td>39.2</td>\n",
       "      <td>55.776758</td>\n",
       "    </tr>\n",
       "    <tr>\n",
       "      <th>7</th>\n",
       "      <td>74.4</td>\n",
       "      <td>83.807894</td>\n",
       "    </tr>\n",
       "    <tr>\n",
       "      <th>8</th>\n",
       "      <td>19.8</td>\n",
       "      <td>83.807894</td>\n",
       "    </tr>\n",
       "    <tr>\n",
       "      <th>9</th>\n",
       "      <td>28.4</td>\n",
       "      <td>83.807894</td>\n",
       "    </tr>\n",
       "    <tr>\n",
       "      <th>10</th>\n",
       "      <td>28.5</td>\n",
       "      <td>153.885736</td>\n",
       "    </tr>\n",
       "    <tr>\n",
       "      <th>11</th>\n",
       "      <td>57.4</td>\n",
       "      <td>97.823463</td>\n",
       "    </tr>\n",
       "    <tr>\n",
       "      <th>12</th>\n",
       "      <td>276.2</td>\n",
       "      <td>111.839031</td>\n",
       "    </tr>\n",
       "    <tr>\n",
       "      <th>13</th>\n",
       "      <td>17.9</td>\n",
       "      <td>55.776758</td>\n",
       "    </tr>\n",
       "    <tr>\n",
       "      <th>14</th>\n",
       "      <td>447.0</td>\n",
       "      <td>111.839031</td>\n",
       "    </tr>\n",
       "    <tr>\n",
       "      <th>15</th>\n",
       "      <td>9.3</td>\n",
       "      <td>69.792326</td>\n",
       "    </tr>\n",
       "    <tr>\n",
       "      <th>16</th>\n",
       "      <td>127.3</td>\n",
       "      <td>139.870168</td>\n",
       "    </tr>\n",
       "    <tr>\n",
       "      <th>17</th>\n",
       "      <td>29.5</td>\n",
       "      <td>97.823463</td>\n",
       "    </tr>\n",
       "    <tr>\n",
       "      <th>18</th>\n",
       "      <td>156.5</td>\n",
       "      <td>125.854599</td>\n",
       "    </tr>\n",
       "    <tr>\n",
       "      <th>19</th>\n",
       "      <td>65.3</td>\n",
       "      <td>153.885736</td>\n",
       "    </tr>\n",
       "    <tr>\n",
       "      <th>20</th>\n",
       "      <td>66.7</td>\n",
       "      <td>97.823463</td>\n",
       "    </tr>\n",
       "    <tr>\n",
       "      <th>21</th>\n",
       "      <td>43.6</td>\n",
       "      <td>69.792326</td>\n",
       "    </tr>\n",
       "    <tr>\n",
       "      <th>22</th>\n",
       "      <td>6.6</td>\n",
       "      <td>139.870168</td>\n",
       "    </tr>\n",
       "    <tr>\n",
       "      <th>23</th>\n",
       "      <td>136.1</td>\n",
       "      <td>125.854599</td>\n",
       "    </tr>\n",
       "    <tr>\n",
       "      <th>24</th>\n",
       "      <td>113.7</td>\n",
       "      <td>27.745621</td>\n",
       "    </tr>\n",
       "    <tr>\n",
       "      <th>25</th>\n",
       "      <td>139.2</td>\n",
       "      <td>111.839031</td>\n",
       "    </tr>\n",
       "    <tr>\n",
       "      <th>26</th>\n",
       "      <td>16.0</td>\n",
       "      <td>69.792326</td>\n",
       "    </tr>\n",
       "    <tr>\n",
       "      <th>27</th>\n",
       "      <td>223.6</td>\n",
       "      <td>153.885736</td>\n",
       "    </tr>\n",
       "    <tr>\n",
       "      <th>28</th>\n",
       "      <td>405.1</td>\n",
       "      <td>139.870168</td>\n",
       "    </tr>\n",
       "    <tr>\n",
       "      <th>29</th>\n",
       "      <td>5.3</td>\n",
       "      <td>13.730053</td>\n",
       "    </tr>\n",
       "  </tbody>\n",
       "</table>\n",
       "</div>"
      ],
      "text/plain": [
       "    Actual   Predicted\n",
       "0    642.3  139.870168\n",
       "1     57.2   55.776758\n",
       "2    379.5   83.807894\n",
       "3    240.0  153.885736\n",
       "4    159.4   55.776758\n",
       "5     51.5   97.823463\n",
       "6     39.2   55.776758\n",
       "7     74.4   83.807894\n",
       "8     19.8   83.807894\n",
       "9     28.4   83.807894\n",
       "10    28.5  153.885736\n",
       "11    57.4   97.823463\n",
       "12   276.2  111.839031\n",
       "13    17.9   55.776758\n",
       "14   447.0  111.839031\n",
       "15     9.3   69.792326\n",
       "16   127.3  139.870168\n",
       "17    29.5   97.823463\n",
       "18   156.5  125.854599\n",
       "19    65.3  153.885736\n",
       "20    66.7   97.823463\n",
       "21    43.6   69.792326\n",
       "22     6.6  139.870168\n",
       "23   136.1  125.854599\n",
       "24   113.7   27.745621\n",
       "25   139.2  111.839031\n",
       "26    16.0   69.792326\n",
       "27   223.6  153.885736\n",
       "28   405.1  139.870168\n",
       "29     5.3   13.730053"
      ]
     },
     "execution_count": 22,
     "metadata": {},
     "output_type": "execute_result"
    }
   ],
   "source": [
    "# Create a dataframe comparing the actual and predicted values of y.\n",
    "\n",
    "data_act_pred = pd.DataFrame({'Actual': y_test.flatten(), 'Predicted': y_predicted.flatten()})\n",
    "data_act_pred.head(30)"
   ]
  },
  {
   "cell_type": "markdown",
   "id": "d3d0e3a3",
   "metadata": {},
   "source": [
    "## 13\n",
    "Include your thoughts on how well the model performed on the test set in a markdown cell.\n",
    "Include any reflections you have on the impact of possible data bias."
   ]
  },
  {
   "cell_type": "markdown",
   "id": "62f444d3",
   "metadata": {},
   "source": [
    "The prediction model was a good understading however, the data set and prediction model are suitable for each other. The vulnarebility of having cancer increases with age but its not very linear in nature. the vulnarability starts around age 40 mark and increases. Hence the pridctions are not inline with actual values.\n",
    "Also, we can see . For the actual vs predcted data, MSE is too high and R2 is too low. Hence we can understand that regresson model is suitable for these variables."
   ]
  },
  {
   "cell_type": "code",
   "execution_count": 23,
   "id": "bcce82d2",
   "metadata": {},
   "outputs": [],
   "source": [
    "#exporting data with age_max\n",
    "df_data.to_csv(os.path.join(pathk,'Cancer_incidents_1819.csv'),index=False)"
   ]
  },
  {
   "cell_type": "code",
   "execution_count": null,
   "id": "7f1e2e27",
   "metadata": {},
   "outputs": [],
   "source": []
  }
 ],
 "metadata": {
  "kernelspec": {
   "display_name": "Python 3 (ipykernel)",
   "language": "python",
   "name": "python3"
  },
  "language_info": {
   "codemirror_mode": {
    "name": "ipython",
    "version": 3
   },
   "file_extension": ".py",
   "mimetype": "text/x-python",
   "name": "python",
   "nbconvert_exporter": "python",
   "pygments_lexer": "ipython3",
   "version": "3.9.13"
  }
 },
 "nbformat": 4,
 "nbformat_minor": 5
}
